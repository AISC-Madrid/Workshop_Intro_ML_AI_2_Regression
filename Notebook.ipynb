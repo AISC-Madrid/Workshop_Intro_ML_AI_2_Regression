{
 "cells": [
  {
   "metadata": {},
   "cell_type": "markdown",
   "source": [
    "# Introducción a la IA & ML II: Regresión\n",
    "En este notebook vamos a utilizar modelos de regresión para resolver dos problemas a partir de bases de datos diferentes. El código no está completo, por lo que deberéis modificar algunas celdas.\n",
    "Para ambos problemas, estos serán los pasos a seguir:\n",
    "1. Importar los datos\n",
    "2. Procesar los datos\n",
    "3. Dividir en entrenamiento y prueba\n",
    "4. Entrenar los modelos\n",
    "5. Evaluar los modelos"
   ],
   "id": "4a06b40cbc117995"
  },
  {
   "metadata": {
    "ExecuteTime": {
     "end_time": "2025-09-27T10:53:22.551325Z",
     "start_time": "2025-09-27T10:53:22.528316Z"
    }
   },
   "cell_type": "code",
   "source": [
    "from sklearn.datasets import fetch_california_housing\n",
    "from sklearn.model_selection import train_test_split\n",
    "from sklearn.linear_model import LinearRegression\n",
    "from sklearn.metrics import mean_squared_error\n",
    "import matplotlib.pyplot as plt"
   ],
   "id": "9ec68899d1b8a658",
   "outputs": [],
   "execution_count": 83
  },
  {
   "metadata": {},
   "cell_type": "markdown",
   "source": [
    "## Problema 1: Precio inmuebles California, USA\n",
    "Para este primer problema, vamos a utilizar una base de datos que contiene información agregada de distritos de California, cada fila representa una zona.\n",
    "Estas son las variables y sus significados:\n",
    "- MedInc: ingreso medio del hogar en la zona\n",
    "- HouseAge: edad media de las viviendas\n",
    "- AveRooms: nº medio de habitaciones\n",
    "- AveBedrms: nº medio de dormitorios\n",
    "- Population: nº total de habitantes\n",
    "- AveOccup: nº medio de residentes por vivienda\n",
    "- Latitude: latitud\n",
    "- Longitude: longitud\n",
    "- MedHouseValue: precio medio de la vivienda"
   ],
   "id": "b635e4a0444a006a"
  },
  {
   "metadata": {},
   "cell_type": "markdown",
   "source": "### 1. Importar los datos",
   "id": "d30375bf8ac3834b"
  },
  {
   "cell_type": "code",
   "id": "initial_id",
   "metadata": {
    "collapsed": true,
    "ExecuteTime": {
     "end_time": "2025-09-27T10:53:22.759233Z",
     "start_time": "2025-09-27T10:53:22.654721Z"
    }
   },
   "source": "data = fetch_california_housing(as_frame=True).frame",
   "outputs": [],
   "execution_count": 84
  },
  {
   "metadata": {
    "ExecuteTime": {
     "end_time": "2025-09-27T10:53:22.932363Z",
     "start_time": "2025-09-27T10:53:22.873239Z"
    }
   },
   "cell_type": "code",
   "source": "data.head()",
   "id": "94a135030a959993",
   "outputs": [
    {
     "data": {
      "text/plain": [
       "   MedInc  HouseAge  AveRooms  AveBedrms  Population  AveOccup  Latitude  \\\n",
       "0  8.3252      41.0  6.984127   1.023810       322.0  2.555556     37.88   \n",
       "1  8.3014      21.0  6.238137   0.971880      2401.0  2.109842     37.86   \n",
       "2  7.2574      52.0  8.288136   1.073446       496.0  2.802260     37.85   \n",
       "3  5.6431      52.0  5.817352   1.073059       558.0  2.547945     37.85   \n",
       "4  3.8462      52.0  6.281853   1.081081       565.0  2.181467     37.85   \n",
       "\n",
       "   Longitude  MedHouseVal  \n",
       "0    -122.23        4.526  \n",
       "1    -122.22        3.585  \n",
       "2    -122.24        3.521  \n",
       "3    -122.25        3.413  \n",
       "4    -122.25        3.422  "
      ],
      "text/html": [
       "<div>\n",
       "<style scoped>\n",
       "    .dataframe tbody tr th:only-of-type {\n",
       "        vertical-align: middle;\n",
       "    }\n",
       "\n",
       "    .dataframe tbody tr th {\n",
       "        vertical-align: top;\n",
       "    }\n",
       "\n",
       "    .dataframe thead th {\n",
       "        text-align: right;\n",
       "    }\n",
       "</style>\n",
       "<table border=\"1\" class=\"dataframe\">\n",
       "  <thead>\n",
       "    <tr style=\"text-align: right;\">\n",
       "      <th></th>\n",
       "      <th>MedInc</th>\n",
       "      <th>HouseAge</th>\n",
       "      <th>AveRooms</th>\n",
       "      <th>AveBedrms</th>\n",
       "      <th>Population</th>\n",
       "      <th>AveOccup</th>\n",
       "      <th>Latitude</th>\n",
       "      <th>Longitude</th>\n",
       "      <th>MedHouseVal</th>\n",
       "    </tr>\n",
       "  </thead>\n",
       "  <tbody>\n",
       "    <tr>\n",
       "      <th>0</th>\n",
       "      <td>8.3252</td>\n",
       "      <td>41.0</td>\n",
       "      <td>6.984127</td>\n",
       "      <td>1.023810</td>\n",
       "      <td>322.0</td>\n",
       "      <td>2.555556</td>\n",
       "      <td>37.88</td>\n",
       "      <td>-122.23</td>\n",
       "      <td>4.526</td>\n",
       "    </tr>\n",
       "    <tr>\n",
       "      <th>1</th>\n",
       "      <td>8.3014</td>\n",
       "      <td>21.0</td>\n",
       "      <td>6.238137</td>\n",
       "      <td>0.971880</td>\n",
       "      <td>2401.0</td>\n",
       "      <td>2.109842</td>\n",
       "      <td>37.86</td>\n",
       "      <td>-122.22</td>\n",
       "      <td>3.585</td>\n",
       "    </tr>\n",
       "    <tr>\n",
       "      <th>2</th>\n",
       "      <td>7.2574</td>\n",
       "      <td>52.0</td>\n",
       "      <td>8.288136</td>\n",
       "      <td>1.073446</td>\n",
       "      <td>496.0</td>\n",
       "      <td>2.802260</td>\n",
       "      <td>37.85</td>\n",
       "      <td>-122.24</td>\n",
       "      <td>3.521</td>\n",
       "    </tr>\n",
       "    <tr>\n",
       "      <th>3</th>\n",
       "      <td>5.6431</td>\n",
       "      <td>52.0</td>\n",
       "      <td>5.817352</td>\n",
       "      <td>1.073059</td>\n",
       "      <td>558.0</td>\n",
       "      <td>2.547945</td>\n",
       "      <td>37.85</td>\n",
       "      <td>-122.25</td>\n",
       "      <td>3.413</td>\n",
       "    </tr>\n",
       "    <tr>\n",
       "      <th>4</th>\n",
       "      <td>3.8462</td>\n",
       "      <td>52.0</td>\n",
       "      <td>6.281853</td>\n",
       "      <td>1.081081</td>\n",
       "      <td>565.0</td>\n",
       "      <td>2.181467</td>\n",
       "      <td>37.85</td>\n",
       "      <td>-122.25</td>\n",
       "      <td>3.422</td>\n",
       "    </tr>\n",
       "  </tbody>\n",
       "</table>\n",
       "</div>"
      ]
     },
     "execution_count": 85,
     "metadata": {},
     "output_type": "execute_result"
    }
   ],
   "execution_count": 85
  },
  {
   "metadata": {},
   "cell_type": "markdown",
   "source": "¿Cuántas zonas hay incluidas en nuestra base de datos?",
   "id": "52c85bc3664bc4e5"
  },
  {
   "metadata": {
    "ExecuteTime": {
     "end_time": "2025-09-27T10:53:23.260730Z",
     "start_time": "2025-09-27T10:53:23.217411Z"
    }
   },
   "cell_type": "code",
   "source": "print(f\"Tenemos un total de {len(data)} zonas\")",
   "id": "7cb715a6e2f203fe",
   "outputs": [
    {
     "name": "stdout",
     "output_type": "stream",
     "text": [
      "Tenemos un total de 20640 zonas\n"
     ]
    }
   ],
   "execution_count": 86
  },
  {
   "metadata": {},
   "cell_type": "markdown",
   "source": "### 2. Procesar los datos",
   "id": "e9c47449aeb81b6"
  },
  {
   "metadata": {},
   "cell_type": "markdown",
   "source": "Una pequeña mirada a la distribución de nuestros datos",
   "id": "1f92a53439611c30"
  },
  {
   "metadata": {
    "ExecuteTime": {
     "end_time": "2025-09-27T10:53:23.801876Z",
     "start_time": "2025-09-27T10:53:23.606642Z"
    }
   },
   "cell_type": "code",
   "source": "data.describe()",
   "id": "c24d096dbdeed04f",
   "outputs": [
    {
     "data": {
      "text/plain": [
       "             MedInc      HouseAge      AveRooms     AveBedrms    Population  \\\n",
       "count  20640.000000  20640.000000  20640.000000  20640.000000  20640.000000   \n",
       "mean       3.870671     28.639486      5.429000      1.096675   1425.476744   \n",
       "std        1.899822     12.585558      2.474173      0.473911   1132.462122   \n",
       "min        0.499900      1.000000      0.846154      0.333333      3.000000   \n",
       "25%        2.563400     18.000000      4.440716      1.006079    787.000000   \n",
       "50%        3.534800     29.000000      5.229129      1.048780   1166.000000   \n",
       "75%        4.743250     37.000000      6.052381      1.099526   1725.000000   \n",
       "max       15.000100     52.000000    141.909091     34.066667  35682.000000   \n",
       "\n",
       "           AveOccup      Latitude     Longitude   MedHouseVal  \n",
       "count  20640.000000  20640.000000  20640.000000  20640.000000  \n",
       "mean       3.070655     35.631861   -119.569704      2.068558  \n",
       "std       10.386050      2.135952      2.003532      1.153956  \n",
       "min        0.692308     32.540000   -124.350000      0.149990  \n",
       "25%        2.429741     33.930000   -121.800000      1.196000  \n",
       "50%        2.818116     34.260000   -118.490000      1.797000  \n",
       "75%        3.282261     37.710000   -118.010000      2.647250  \n",
       "max     1243.333333     41.950000   -114.310000      5.000010  "
      ],
      "text/html": [
       "<div>\n",
       "<style scoped>\n",
       "    .dataframe tbody tr th:only-of-type {\n",
       "        vertical-align: middle;\n",
       "    }\n",
       "\n",
       "    .dataframe tbody tr th {\n",
       "        vertical-align: top;\n",
       "    }\n",
       "\n",
       "    .dataframe thead th {\n",
       "        text-align: right;\n",
       "    }\n",
       "</style>\n",
       "<table border=\"1\" class=\"dataframe\">\n",
       "  <thead>\n",
       "    <tr style=\"text-align: right;\">\n",
       "      <th></th>\n",
       "      <th>MedInc</th>\n",
       "      <th>HouseAge</th>\n",
       "      <th>AveRooms</th>\n",
       "      <th>AveBedrms</th>\n",
       "      <th>Population</th>\n",
       "      <th>AveOccup</th>\n",
       "      <th>Latitude</th>\n",
       "      <th>Longitude</th>\n",
       "      <th>MedHouseVal</th>\n",
       "    </tr>\n",
       "  </thead>\n",
       "  <tbody>\n",
       "    <tr>\n",
       "      <th>count</th>\n",
       "      <td>20640.000000</td>\n",
       "      <td>20640.000000</td>\n",
       "      <td>20640.000000</td>\n",
       "      <td>20640.000000</td>\n",
       "      <td>20640.000000</td>\n",
       "      <td>20640.000000</td>\n",
       "      <td>20640.000000</td>\n",
       "      <td>20640.000000</td>\n",
       "      <td>20640.000000</td>\n",
       "    </tr>\n",
       "    <tr>\n",
       "      <th>mean</th>\n",
       "      <td>3.870671</td>\n",
       "      <td>28.639486</td>\n",
       "      <td>5.429000</td>\n",
       "      <td>1.096675</td>\n",
       "      <td>1425.476744</td>\n",
       "      <td>3.070655</td>\n",
       "      <td>35.631861</td>\n",
       "      <td>-119.569704</td>\n",
       "      <td>2.068558</td>\n",
       "    </tr>\n",
       "    <tr>\n",
       "      <th>std</th>\n",
       "      <td>1.899822</td>\n",
       "      <td>12.585558</td>\n",
       "      <td>2.474173</td>\n",
       "      <td>0.473911</td>\n",
       "      <td>1132.462122</td>\n",
       "      <td>10.386050</td>\n",
       "      <td>2.135952</td>\n",
       "      <td>2.003532</td>\n",
       "      <td>1.153956</td>\n",
       "    </tr>\n",
       "    <tr>\n",
       "      <th>min</th>\n",
       "      <td>0.499900</td>\n",
       "      <td>1.000000</td>\n",
       "      <td>0.846154</td>\n",
       "      <td>0.333333</td>\n",
       "      <td>3.000000</td>\n",
       "      <td>0.692308</td>\n",
       "      <td>32.540000</td>\n",
       "      <td>-124.350000</td>\n",
       "      <td>0.149990</td>\n",
       "    </tr>\n",
       "    <tr>\n",
       "      <th>25%</th>\n",
       "      <td>2.563400</td>\n",
       "      <td>18.000000</td>\n",
       "      <td>4.440716</td>\n",
       "      <td>1.006079</td>\n",
       "      <td>787.000000</td>\n",
       "      <td>2.429741</td>\n",
       "      <td>33.930000</td>\n",
       "      <td>-121.800000</td>\n",
       "      <td>1.196000</td>\n",
       "    </tr>\n",
       "    <tr>\n",
       "      <th>50%</th>\n",
       "      <td>3.534800</td>\n",
       "      <td>29.000000</td>\n",
       "      <td>5.229129</td>\n",
       "      <td>1.048780</td>\n",
       "      <td>1166.000000</td>\n",
       "      <td>2.818116</td>\n",
       "      <td>34.260000</td>\n",
       "      <td>-118.490000</td>\n",
       "      <td>1.797000</td>\n",
       "    </tr>\n",
       "    <tr>\n",
       "      <th>75%</th>\n",
       "      <td>4.743250</td>\n",
       "      <td>37.000000</td>\n",
       "      <td>6.052381</td>\n",
       "      <td>1.099526</td>\n",
       "      <td>1725.000000</td>\n",
       "      <td>3.282261</td>\n",
       "      <td>37.710000</td>\n",
       "      <td>-118.010000</td>\n",
       "      <td>2.647250</td>\n",
       "    </tr>\n",
       "    <tr>\n",
       "      <th>max</th>\n",
       "      <td>15.000100</td>\n",
       "      <td>52.000000</td>\n",
       "      <td>141.909091</td>\n",
       "      <td>34.066667</td>\n",
       "      <td>35682.000000</td>\n",
       "      <td>1243.333333</td>\n",
       "      <td>41.950000</td>\n",
       "      <td>-114.310000</td>\n",
       "      <td>5.000010</td>\n",
       "    </tr>\n",
       "  </tbody>\n",
       "</table>\n",
       "</div>"
      ]
     },
     "execution_count": 87,
     "metadata": {},
     "output_type": "execute_result"
    }
   ],
   "execution_count": 87
  },
  {
   "metadata": {},
   "cell_type": "markdown",
   "source": "¿Tenemos valores ausentes/nulos?",
   "id": "e5c82cacce60510b"
  },
  {
   "metadata": {},
   "cell_type": "markdown",
   "source": "![IQR.png](images/IQR.png)",
   "id": "54d964b7749e522"
  },
  {
   "metadata": {
    "ExecuteTime": {
     "end_time": "2025-09-27T10:53:24.318541Z",
     "start_time": "2025-09-27T10:53:24.291545Z"
    }
   },
   "cell_type": "code",
   "source": "data.isna().sum()",
   "id": "8e6ef4a073436f3",
   "outputs": [
    {
     "data": {
      "text/plain": [
       "MedInc         0\n",
       "HouseAge       0\n",
       "AveRooms       0\n",
       "AveBedrms      0\n",
       "Population     0\n",
       "AveOccup       0\n",
       "Latitude       0\n",
       "Longitude      0\n",
       "MedHouseVal    0\n",
       "dtype: int64"
      ]
     },
     "execution_count": 88,
     "metadata": {},
     "output_type": "execute_result"
    }
   ],
   "execution_count": 88
  },
  {
   "metadata": {},
   "cell_type": "markdown",
   "source": "¿Tenemos valores atípicos/extremos?",
   "id": "e46502627043356c"
  },
  {
   "metadata": {
    "ExecuteTime": {
     "end_time": "2025-09-27T10:53:24.903386Z",
     "start_time": "2025-09-27T10:53:24.745196Z"
    }
   },
   "cell_type": "code",
   "source": [
    "for col in data.columns:\n",
    "\n",
    "    Q1 = data[col].quantile(0.25)\n",
    "    Q3 = data[col].quantile(0.75)\n",
    "    IQR = Q3 - Q1\n",
    "\n",
    "    lower = Q1 - 1.5 * IQR\n",
    "    upper = Q3 + 1.5 * IQR\n",
    "\n",
    "    data = data[(data[col] >= lower) & (data[col] <= upper)]\n"
   ],
   "id": "924355837bfb42c0",
   "outputs": [],
   "execution_count": 89
  },
  {
   "metadata": {},
   "cell_type": "markdown",
   "source": "### 3. Entrenamiento y prueba",
   "id": "82af0626c786fb78"
  },
  {
   "metadata": {
    "ExecuteTime": {
     "end_time": "2025-09-27T10:53:25.408762Z",
     "start_time": "2025-09-27T10:53:25.316594Z"
    }
   },
   "cell_type": "code",
   "source": [
    "train, test = train_test_split(data, test_size=0.2, random_state=42)\n",
    "\n",
    "display(train.head())\n",
    "display(test.head())"
   ],
   "id": "de8768f7d7e83550",
   "outputs": [
    {
     "data": {
      "text/plain": [
       "       MedInc  HouseAge  AveRooms  AveBedrms  Population  AveOccup  Latitude  \\\n",
       "4302   1.9063      52.0  3.603399   0.912181       984.0  2.787535     34.09   \n",
       "17739  5.9399      10.0  6.036424   1.048565      3083.0  3.402870     37.30   \n",
       "1001   3.5532      36.0  4.534946   1.000000       950.0  2.553763     37.68   \n",
       "4625   3.5909      25.0  4.126506   1.064759      1420.0  2.138554     34.07   \n",
       "613    4.6042      51.0  6.664122   1.025445       922.0  2.346056     37.73   \n",
       "\n",
       "       Longitude  MedHouseVal  \n",
       "4302     -118.29        2.616  \n",
       "17739    -121.79        2.419  \n",
       "1001     -121.77        1.584  \n",
       "4625     -118.32        4.045  \n",
       "613      -122.14        2.519  "
      ],
      "text/html": [
       "<div>\n",
       "<style scoped>\n",
       "    .dataframe tbody tr th:only-of-type {\n",
       "        vertical-align: middle;\n",
       "    }\n",
       "\n",
       "    .dataframe tbody tr th {\n",
       "        vertical-align: top;\n",
       "    }\n",
       "\n",
       "    .dataframe thead th {\n",
       "        text-align: right;\n",
       "    }\n",
       "</style>\n",
       "<table border=\"1\" class=\"dataframe\">\n",
       "  <thead>\n",
       "    <tr style=\"text-align: right;\">\n",
       "      <th></th>\n",
       "      <th>MedInc</th>\n",
       "      <th>HouseAge</th>\n",
       "      <th>AveRooms</th>\n",
       "      <th>AveBedrms</th>\n",
       "      <th>Population</th>\n",
       "      <th>AveOccup</th>\n",
       "      <th>Latitude</th>\n",
       "      <th>Longitude</th>\n",
       "      <th>MedHouseVal</th>\n",
       "    </tr>\n",
       "  </thead>\n",
       "  <tbody>\n",
       "    <tr>\n",
       "      <th>4302</th>\n",
       "      <td>1.9063</td>\n",
       "      <td>52.0</td>\n",
       "      <td>3.603399</td>\n",
       "      <td>0.912181</td>\n",
       "      <td>984.0</td>\n",
       "      <td>2.787535</td>\n",
       "      <td>34.09</td>\n",
       "      <td>-118.29</td>\n",
       "      <td>2.616</td>\n",
       "    </tr>\n",
       "    <tr>\n",
       "      <th>17739</th>\n",
       "      <td>5.9399</td>\n",
       "      <td>10.0</td>\n",
       "      <td>6.036424</td>\n",
       "      <td>1.048565</td>\n",
       "      <td>3083.0</td>\n",
       "      <td>3.402870</td>\n",
       "      <td>37.30</td>\n",
       "      <td>-121.79</td>\n",
       "      <td>2.419</td>\n",
       "    </tr>\n",
       "    <tr>\n",
       "      <th>1001</th>\n",
       "      <td>3.5532</td>\n",
       "      <td>36.0</td>\n",
       "      <td>4.534946</td>\n",
       "      <td>1.000000</td>\n",
       "      <td>950.0</td>\n",
       "      <td>2.553763</td>\n",
       "      <td>37.68</td>\n",
       "      <td>-121.77</td>\n",
       "      <td>1.584</td>\n",
       "    </tr>\n",
       "    <tr>\n",
       "      <th>4625</th>\n",
       "      <td>3.5909</td>\n",
       "      <td>25.0</td>\n",
       "      <td>4.126506</td>\n",
       "      <td>1.064759</td>\n",
       "      <td>1420.0</td>\n",
       "      <td>2.138554</td>\n",
       "      <td>34.07</td>\n",
       "      <td>-118.32</td>\n",
       "      <td>4.045</td>\n",
       "    </tr>\n",
       "    <tr>\n",
       "      <th>613</th>\n",
       "      <td>4.6042</td>\n",
       "      <td>51.0</td>\n",
       "      <td>6.664122</td>\n",
       "      <td>1.025445</td>\n",
       "      <td>922.0</td>\n",
       "      <td>2.346056</td>\n",
       "      <td>37.73</td>\n",
       "      <td>-122.14</td>\n",
       "      <td>2.519</td>\n",
       "    </tr>\n",
       "  </tbody>\n",
       "</table>\n",
       "</div>"
      ]
     },
     "metadata": {},
     "output_type": "display_data"
    },
    {
     "data": {
      "text/plain": [
       "       MedInc  HouseAge  AveRooms  AveBedrms  Population  AveOccup  Latitude  \\\n",
       "7794   3.2857      37.0  5.120000   1.151111       981.0  4.360000     33.89   \n",
       "9480   1.5625      21.0  3.930909   0.923636       715.0  2.600000     39.40   \n",
       "9273   7.5000       9.0  6.852632   0.931579       682.0  3.589474     38.15   \n",
       "11949  3.9118      32.0  5.527059   1.063529      1479.0  3.480000     33.94   \n",
       "13831  5.5875       9.0  7.593668   1.064644      2158.0  2.846966     34.51   \n",
       "\n",
       "       Longitude  MedHouseVal  \n",
       "7794     -118.08        1.536  \n",
       "9480     -123.36        0.715  \n",
       "9273     -122.58        4.232  \n",
       "11949    -117.44        1.141  \n",
       "13831    -117.23        1.678  "
      ],
      "text/html": [
       "<div>\n",
       "<style scoped>\n",
       "    .dataframe tbody tr th:only-of-type {\n",
       "        vertical-align: middle;\n",
       "    }\n",
       "\n",
       "    .dataframe tbody tr th {\n",
       "        vertical-align: top;\n",
       "    }\n",
       "\n",
       "    .dataframe thead th {\n",
       "        text-align: right;\n",
       "    }\n",
       "</style>\n",
       "<table border=\"1\" class=\"dataframe\">\n",
       "  <thead>\n",
       "    <tr style=\"text-align: right;\">\n",
       "      <th></th>\n",
       "      <th>MedInc</th>\n",
       "      <th>HouseAge</th>\n",
       "      <th>AveRooms</th>\n",
       "      <th>AveBedrms</th>\n",
       "      <th>Population</th>\n",
       "      <th>AveOccup</th>\n",
       "      <th>Latitude</th>\n",
       "      <th>Longitude</th>\n",
       "      <th>MedHouseVal</th>\n",
       "    </tr>\n",
       "  </thead>\n",
       "  <tbody>\n",
       "    <tr>\n",
       "      <th>7794</th>\n",
       "      <td>3.2857</td>\n",
       "      <td>37.0</td>\n",
       "      <td>5.120000</td>\n",
       "      <td>1.151111</td>\n",
       "      <td>981.0</td>\n",
       "      <td>4.360000</td>\n",
       "      <td>33.89</td>\n",
       "      <td>-118.08</td>\n",
       "      <td>1.536</td>\n",
       "    </tr>\n",
       "    <tr>\n",
       "      <th>9480</th>\n",
       "      <td>1.5625</td>\n",
       "      <td>21.0</td>\n",
       "      <td>3.930909</td>\n",
       "      <td>0.923636</td>\n",
       "      <td>715.0</td>\n",
       "      <td>2.600000</td>\n",
       "      <td>39.40</td>\n",
       "      <td>-123.36</td>\n",
       "      <td>0.715</td>\n",
       "    </tr>\n",
       "    <tr>\n",
       "      <th>9273</th>\n",
       "      <td>7.5000</td>\n",
       "      <td>9.0</td>\n",
       "      <td>6.852632</td>\n",
       "      <td>0.931579</td>\n",
       "      <td>682.0</td>\n",
       "      <td>3.589474</td>\n",
       "      <td>38.15</td>\n",
       "      <td>-122.58</td>\n",
       "      <td>4.232</td>\n",
       "    </tr>\n",
       "    <tr>\n",
       "      <th>11949</th>\n",
       "      <td>3.9118</td>\n",
       "      <td>32.0</td>\n",
       "      <td>5.527059</td>\n",
       "      <td>1.063529</td>\n",
       "      <td>1479.0</td>\n",
       "      <td>3.480000</td>\n",
       "      <td>33.94</td>\n",
       "      <td>-117.44</td>\n",
       "      <td>1.141</td>\n",
       "    </tr>\n",
       "    <tr>\n",
       "      <th>13831</th>\n",
       "      <td>5.5875</td>\n",
       "      <td>9.0</td>\n",
       "      <td>7.593668</td>\n",
       "      <td>1.064644</td>\n",
       "      <td>2158.0</td>\n",
       "      <td>2.846966</td>\n",
       "      <td>34.51</td>\n",
       "      <td>-117.23</td>\n",
       "      <td>1.678</td>\n",
       "    </tr>\n",
       "  </tbody>\n",
       "</table>\n",
       "</div>"
      ]
     },
     "metadata": {},
     "output_type": "display_data"
    }
   ],
   "execution_count": 90
  },
  {
   "metadata": {},
   "cell_type": "markdown",
   "source": "¿Cuál es la diferencia entre train y test?",
   "id": "eb1f55876ab45383"
  },
  {
   "metadata": {
    "ExecuteTime": {
     "end_time": "2025-09-27T10:53:25.785418Z",
     "start_time": "2025-09-27T10:53:25.757867Z"
    }
   },
   "cell_type": "code",
   "source": "print(f\"Train tiene {len(train)} filas y test tiene {len(test)} filas\")",
   "id": "eadb0679d8d5d23f",
   "outputs": [
    {
     "name": "stdout",
     "output_type": "stream",
     "text": [
      "Train tiene 12985 filas y test tiene 3247 filas\n"
     ]
    }
   ],
   "execution_count": 91
  },
  {
   "metadata": {},
   "cell_type": "markdown",
   "source": "Antes de pasar al entrenamiento, debemos completar un último paso, separar nuestra variable objetivo de nuestras variables predictoras",
   "id": "c4a2d42a48f21b"
  },
  {
   "metadata": {
    "ExecuteTime": {
     "end_time": "2025-09-27T10:53:26.198154Z",
     "start_time": "2025-09-27T10:53:26.185985Z"
    }
   },
   "cell_type": "code",
   "source": [
    "X_train = train.drop(columns=[\"MedHouseVal\"])\n",
    "y_train = train[\"MedHouseVal\"]\n",
    "\n",
    "X_test = test.drop(columns=[\"MedHouseVal\"])\n",
    "y_test = test[\"MedHouseVal\"]"
   ],
   "id": "db71a41812dfc4c2",
   "outputs": [],
   "execution_count": 92
  },
  {
   "metadata": {},
   "cell_type": "markdown",
   "source": [
    "### 4. Entrenar el modelo\n",
    "Vale, ahora tenemos nuestros datos limpios, procesados, y separados en entrenamiento y prueba.\n",
    "Tenemos todo preparado para entrenar nuestro modelo, pero, ¿qué modelo debemos elegir?\n",
    "\n",
    "Esta es la gran pregunta, y la respuesta depende de varios factores, según los cuales unos modelos u otros serán más adecuados:\n",
    "- Tipo de variables predictoras\n",
    "- Complejidad del modelo\n",
    "- Relaciones entre las variables\n",
    "\n",
    "Todos los modelos tienen características distintas, y se ajustan mejor a ciertos tipos de datos.\n",
    "En nuestro caso TODAS nuestras variables son _______ y queremos elegir un modelo relativamente sencillo."
   ],
   "id": "3dc95f869e18188e"
  },
  {
   "metadata": {},
   "cell_type": "markdown",
   "source": "![MSE](images/MSE.png)",
   "id": "44e47b68b31fa238"
  },
  {
   "metadata": {
    "ExecuteTime": {
     "end_time": "2025-09-27T10:53:26.416419Z",
     "start_time": "2025-09-27T10:53:26.340150Z"
    }
   },
   "cell_type": "code",
   "source": [
    "model = LinearRegression()\n",
    "model.fit(X_train, y_train);"
   ],
   "id": "51351b662ca43538",
   "outputs": [],
   "execution_count": 93
  },
  {
   "metadata": {},
   "cell_type": "markdown",
   "source": [
    "### 5. Evaluar el modelo\n",
    "¿Cómo podemos saber si las predicciones de nuestro modelo son buenas?\n",
    "\n",
    "Para ello existen una serie de métricas que se calculan comparando los valores reales (y_test) con los valores que nuestro modelo ha predicho (y_pred) para los datos de prueba.\n",
    "La más común es el MSE(Mean Squared Error) o Error Cuadrático Medio\n"
   ],
   "id": "25c836c4d8dc4cb"
  },
  {
   "metadata": {
    "ExecuteTime": {
     "end_time": "2025-09-27T10:53:26.618075Z",
     "start_time": "2025-09-27T10:53:26.553136Z"
    }
   },
   "cell_type": "code",
   "source": [
    "y_pred_train = model.predict(X_train)\n",
    "y_pred_test = model.predict(X_test)\n",
    "\n",
    "print(\"=== Evaluación en Entrenamiento ===\")\n",
    "print(\"MSE:\", mean_squared_error(y_train, y_pred_train))\n",
    "\n",
    "print(\"\\n=== Evaluación en Prueba ===\")\n",
    "print(\"MSE:\", mean_squared_error(y_test, y_pred_test))"
   ],
   "id": "b60b593522129db9",
   "outputs": [
    {
     "name": "stdout",
     "output_type": "stream",
     "text": [
      "=== Evaluación en Entrenamiento ===\n",
      "MSE: 0.31210912899399684\n",
      "\n",
      "=== Evaluación en Prueba ===\n",
      "MSE: 0.3146760712686995\n"
     ]
    }
   ],
   "execution_count": 94
  },
  {
   "metadata": {},
   "cell_type": "markdown",
   "source": "También podemos usar matplotlib para ver nuestros resultados de manera más visual",
   "id": "b160155ffe3cd3d0"
  },
  {
   "metadata": {
    "ExecuteTime": {
     "end_time": "2025-09-27T10:53:27.308695Z",
     "start_time": "2025-09-27T10:53:26.768782Z"
    }
   },
   "cell_type": "code",
   "source": [
    "subset = X_test.copy()\n",
    "subset['y_real'] = y_test\n",
    "subset['y_pred'] = model.predict(X_test)\n",
    "subset_20 = subset.sample(n=20, random_state=42)\n",
    "\n",
    "index = range(len(subset_20))\n",
    "\n",
    "plt.figure(figsize=(12,6))\n",
    "\n",
    "plt.scatter(index, subset_20['y_real'], color='red', label='Valor Real', s=100)\n",
    "plt.scatter(index, subset_20['y_pred'], color='blue', label='Predicción', s=100, marker='x')\n",
    "\n",
    "plt.xticks(index, subset_20.index, rotation=45)\n",
    "plt.ylabel('Target')\n",
    "plt.title('Comparación de Valores Reales y Predicciones (20 observaciones)')\n",
    "plt.legend()\n",
    "plt.tight_layout()\n",
    "plt.show()"
   ],
   "id": "ce75b9eed6fc13f7",
   "outputs": [
    {
     "data": {
      "text/plain": [
       "<Figure size 1200x600 with 1 Axes>"
      ],
      "image/png": "[encoded data removed]"
     },
     "metadata": {},
     "output_type": "display_data"
    }
   ],
   "execution_count": 95
  }
 ],
 "metadata": {
  "kernelspec": {
   "display_name": "Python 3",
   "language": "python",
   "name": "python3"
  },
  "language_info": {
   "codemirror_mode": {
    "name": "ipython",
    "version": 2
   },
   "file_extension": ".py",
   "mimetype": "text/x-python",
   "name": "python",
   "nbconvert_exporter": "python",
   "pygments_lexer": "ipython2",
   "version": "2.7.6"
  }
 },
 "nbformat": 4,
 "nbformat_minor": 5
}
