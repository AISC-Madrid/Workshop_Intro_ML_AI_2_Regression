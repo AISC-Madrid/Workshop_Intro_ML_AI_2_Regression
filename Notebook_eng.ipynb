{
 "cells": [
  {
   "metadata": {},
   "cell_type": "markdown",
   "source": [
    "# Introduction to AI & ML: Regression\n",
    "\n",
    "In this notebook we are going to use regression models to solve two problems with different datasets.\n",
    "The code is not complete, so you will need to modify some cells.\n",
    "For both problems, we will follow these steps:\n",
    "1. Import data\n",
    "2. Process data\n",
    "3. Divide it in train and test\n",
    "4. Train the models\n",
    "5. Evaluate the models"
   ],
   "id": "4a06b40cbc117995"
  },
  {
   "metadata": {
    "ExecuteTime": {
     "end_time": "2025-09-28T09:27:08.911541Z",
     "start_time": "2025-09-28T09:27:08.892280Z"
    }
   },
   "cell_type": "code",
   "source": [
    "from sklearn.datasets import fetch_california_housing\n",
    "from sklearn.model_selection import train_test_split\n",
    "from sklearn.linear_model import LinearRegression\n",
    "from sklearn.ensemble import RandomForestRegressor\n",
    "from sklearn.svm import SVR\n",
    "from sklearn.preprocessing import StandardScaler\n",
    "from sklearn.metrics import mean_squared_error\n",
    "import matplotlib.pyplot as plt\n",
    "import numpy as np\n",
    "import pandas as pd\n",
    "import seaborn as sns"
   ],
   "id": "9ec68899d1b8a658",
   "outputs": [],
   "execution_count": 32
  },
  {
   "metadata": {},
   "cell_type": "markdown",
   "source": [
    "## Problem 1: California housing prices\n",
    "For this first problem, we are going to use a dataset that contains aggregated information from different districts in California, each row represents a district.\n",
    "These are the features and their meaning:\n",
    "- **MedInc**: median income in the district\n",
    "- **HouseAge**: average house age\n",
    "- **AveRooms**: average number of rooms\n",
    "- **AveBedrms**: average number of bedrooms\n",
    "- **Population**: total inhabitants\n",
    "- **AveOccup**: average occupants per household\n",
    "- **Latitude**: latitude\n",
    "- **Longitude**: longitude\n",
    "- **MedHouseValue**: median house value (target variable)"
   ],
   "id": "b635e4a0444a006a"
  },
  {
   "metadata": {},
   "cell_type": "markdown",
   "source": "### 1. Import data",
   "id": "d30375bf8ac3834b"
  },
  {
   "cell_type": "code",
   "id": "initial_id",
   "metadata": {
    "collapsed": true,
    "ExecuteTime": {
     "end_time": "2025-09-28T09:27:09.110605Z",
     "start_time": "2025-09-28T09:27:09.040519Z"
    }
   },
   "source": "data = fetch_california_housing(as_frame=True).frame",
   "outputs": [],
   "execution_count": 33
  },
  {
   "metadata": {
    "ExecuteTime": {
     "end_time": "2025-09-28T09:27:09.256143Z",
     "start_time": "2025-09-28T09:27:09.217218Z"
    }
   },
   "cell_type": "code",
   "source": "data.head()",
   "id": "94a135030a959993",
   "outputs": [
    {
     "data": {
      "text/plain": [
       "   MedInc  HouseAge  AveRooms  AveBedrms  Population  AveOccup  Latitude  \\\n",
       "0  8.3252      41.0  6.984127   1.023810       322.0  2.555556     37.88   \n",
       "1  8.3014      21.0  6.238137   0.971880      2401.0  2.109842     37.86   \n",
       "2  7.2574      52.0  8.288136   1.073446       496.0  2.802260     37.85   \n",
       "3  5.6431      52.0  5.817352   1.073059       558.0  2.547945     37.85   \n",
       "4  3.8462      52.0  6.281853   1.081081       565.0  2.181467     37.85   \n",
       "\n",
       "   Longitude  MedHouseVal  \n",
       "0    -122.23        4.526  \n",
       "1    -122.22        3.585  \n",
       "2    -122.24        3.521  \n",
       "3    -122.25        3.413  \n",
       "4    -122.25        3.422  "
      ],
      "text/html": [
       "<div>\n",
       "<style scoped>\n",
       "    .dataframe tbody tr th:only-of-type {\n",
       "        vertical-align: middle;\n",
       "    }\n",
       "\n",
       "    .dataframe tbody tr th {\n",
       "        vertical-align: top;\n",
       "    }\n",
       "\n",
       "    .dataframe thead th {\n",
       "        text-align: right;\n",
       "    }\n",
       "</style>\n",
       "<table border=\"1\" class=\"dataframe\">\n",
       "  <thead>\n",
       "    <tr style=\"text-align: right;\">\n",
       "      <th></th>\n",
       "      <th>MedInc</th>\n",
       "      <th>HouseAge</th>\n",
       "      <th>AveRooms</th>\n",
       "      <th>AveBedrms</th>\n",
       "      <th>Population</th>\n",
       "      <th>AveOccup</th>\n",
       "      <th>Latitude</th>\n",
       "      <th>Longitude</th>\n",
       "      <th>MedHouseVal</th>\n",
       "    </tr>\n",
       "  </thead>\n",
       "  <tbody>\n",
       "    <tr>\n",
       "      <th>0</th>\n",
       "      <td>8.3252</td>\n",
       "      <td>41.0</td>\n",
       "      <td>6.984127</td>\n",
       "      <td>1.023810</td>\n",
       "      <td>322.0</td>\n",
       "      <td>2.555556</td>\n",
       "      <td>37.88</td>\n",
       "      <td>-122.23</td>\n",
       "      <td>4.526</td>\n",
       "    </tr>\n",
       "    <tr>\n",
       "      <th>1</th>\n",
       "      <td>8.3014</td>\n",
       "      <td>21.0</td>\n",
       "      <td>6.238137</td>\n",
       "      <td>0.971880</td>\n",
       "      <td>2401.0</td>\n",
       "      <td>2.109842</td>\n",
       "      <td>37.86</td>\n",
       "      <td>-122.22</td>\n",
       "      <td>3.585</td>\n",
       "    </tr>\n",
       "    <tr>\n",
       "      <th>2</th>\n",
       "      <td>7.2574</td>\n",
       "      <td>52.0</td>\n",
       "      <td>8.288136</td>\n",
       "      <td>1.073446</td>\n",
       "      <td>496.0</td>\n",
       "      <td>2.802260</td>\n",
       "      <td>37.85</td>\n",
       "      <td>-122.24</td>\n",
       "      <td>3.521</td>\n",
       "    </tr>\n",
       "    <tr>\n",
       "      <th>3</th>\n",
       "      <td>5.6431</td>\n",
       "      <td>52.0</td>\n",
       "      <td>5.817352</td>\n",
       "      <td>1.073059</td>\n",
       "      <td>558.0</td>\n",
       "      <td>2.547945</td>\n",
       "      <td>37.85</td>\n",
       "      <td>-122.25</td>\n",
       "      <td>3.413</td>\n",
       "    </tr>\n",
       "    <tr>\n",
       "      <th>4</th>\n",
       "      <td>3.8462</td>\n",
       "      <td>52.0</td>\n",
       "      <td>6.281853</td>\n",
       "      <td>1.081081</td>\n",
       "      <td>565.0</td>\n",
       "      <td>2.181467</td>\n",
       "      <td>37.85</td>\n",
       "      <td>-122.25</td>\n",
       "      <td>3.422</td>\n",
       "    </tr>\n",
       "  </tbody>\n",
       "</table>\n",
       "</div>"
      ]
     },
     "execution_count": 34,
     "metadata": {},
     "output_type": "execute_result"
    }
   ],
   "execution_count": 34
  },
  {
   "metadata": {},
   "cell_type": "markdown",
   "source": "How many districts are there in our dataset?",
   "id": "52c85bc3664bc4e5"
  },
  {
   "metadata": {
    "ExecuteTime": {
     "end_time": "2025-09-28T09:27:09.515434Z",
     "start_time": "2025-09-28T09:27:09.499232Z"
    }
   },
   "cell_type": "code",
   "source": "print(f\"We have a total of {len(data)} districts\")",
   "id": "7cb715a6e2f203fe",
   "outputs": [
    {
     "name": "stdout",
     "output_type": "stream",
     "text": [
      "We have a total of 20640 districts\n"
     ]
    }
   ],
   "execution_count": 35
  },
  {
   "metadata": {},
   "cell_type": "markdown",
   "source": "### 2. Process data",
   "id": "e9c47449aeb81b6"
  },
  {
   "metadata": {},
   "cell_type": "markdown",
   "source": "A quick glance at the distribution of our data",
   "id": "1f92a53439611c30"
  },
  {
   "metadata": {
    "ExecuteTime": {
     "end_time": "2025-09-28T09:27:09.895435Z",
     "start_time": "2025-09-28T09:27:09.775300Z"
    }
   },
   "cell_type": "code",
   "source": "data.describe()",
   "id": "c24d096dbdeed04f",
   "outputs": [
    {
     "data": {
      "text/plain": [
       "             MedInc      HouseAge      AveRooms     AveBedrms    Population  \\\n",
       "count  20640.000000  20640.000000  20640.000000  20640.000000  20640.000000   \n",
       "mean       3.870671     28.639486      5.429000      1.096675   1425.476744   \n",
       "std        1.899822     12.585558      2.474173      0.473911   1132.462122   \n",
       "min        0.499900      1.000000      0.846154      0.333333      3.000000   \n",
       "25%        2.563400     18.000000      4.440716      1.006079    787.000000   \n",
       "50%        3.534800     29.000000      5.229129      1.048780   1166.000000   \n",
       "75%        4.743250     37.000000      6.052381      1.099526   1725.000000   \n",
       "max       15.000100     52.000000    141.909091     34.066667  35682.000000   \n",
       "\n",
       "           AveOccup      Latitude     Longitude   MedHouseVal  \n",
       "count  20640.000000  20640.000000  20640.000000  20640.000000  \n",
       "mean       3.070655     35.631861   -119.569704      2.068558  \n",
       "std       10.386050      2.135952      2.003532      1.153956  \n",
       "min        0.692308     32.540000   -124.350000      0.149990  \n",
       "25%        2.429741     33.930000   -121.800000      1.196000  \n",
       "50%        2.818116     34.260000   -118.490000      1.797000  \n",
       "75%        3.282261     37.710000   -118.010000      2.647250  \n",
       "max     1243.333333     41.950000   -114.310000      5.000010  "
      ],
      "text/html": [
       "<div>\n",
       "<style scoped>\n",
       "    .dataframe tbody tr th:only-of-type {\n",
       "        vertical-align: middle;\n",
       "    }\n",
       "\n",
       "    .dataframe tbody tr th {\n",
       "        vertical-align: top;\n",
       "    }\n",
       "\n",
       "    .dataframe thead th {\n",
       "        text-align: right;\n",
       "    }\n",
       "</style>\n",
       "<table border=\"1\" class=\"dataframe\">\n",
       "  <thead>\n",
       "    <tr style=\"text-align: right;\">\n",
       "      <th></th>\n",
       "      <th>MedInc</th>\n",
       "      <th>HouseAge</th>\n",
       "      <th>AveRooms</th>\n",
       "      <th>AveBedrms</th>\n",
       "      <th>Population</th>\n",
       "      <th>AveOccup</th>\n",
       "      <th>Latitude</th>\n",
       "      <th>Longitude</th>\n",
       "      <th>MedHouseVal</th>\n",
       "    </tr>\n",
       "  </thead>\n",
       "  <tbody>\n",
       "    <tr>\n",
       "      <th>count</th>\n",
       "      <td>20640.000000</td>\n",
       "      <td>20640.000000</td>\n",
       "      <td>20640.000000</td>\n",
       "      <td>20640.000000</td>\n",
       "      <td>20640.000000</td>\n",
       "      <td>20640.000000</td>\n",
       "      <td>20640.000000</td>\n",
       "      <td>20640.000000</td>\n",
       "      <td>20640.000000</td>\n",
       "    </tr>\n",
       "    <tr>\n",
       "      <th>mean</th>\n",
       "      <td>3.870671</td>\n",
       "      <td>28.639486</td>\n",
       "      <td>5.429000</td>\n",
       "      <td>1.096675</td>\n",
       "      <td>1425.476744</td>\n",
       "      <td>3.070655</td>\n",
       "      <td>35.631861</td>\n",
       "      <td>-119.569704</td>\n",
       "      <td>2.068558</td>\n",
       "    </tr>\n",
       "    <tr>\n",
       "      <th>std</th>\n",
       "      <td>1.899822</td>\n",
       "      <td>12.585558</td>\n",
       "      <td>2.474173</td>\n",
       "      <td>0.473911</td>\n",
       "      <td>1132.462122</td>\n",
       "      <td>10.386050</td>\n",
       "      <td>2.135952</td>\n",
       "      <td>2.003532</td>\n",
       "      <td>1.153956</td>\n",
       "    </tr>\n",
       "    <tr>\n",
       "      <th>min</th>\n",
       "      <td>0.499900</td>\n",
       "      <td>1.000000</td>\n",
       "      <td>0.846154</td>\n",
       "      <td>0.333333</td>\n",
       "      <td>3.000000</td>\n",
       "      <td>0.692308</td>\n",
       "      <td>32.540000</td>\n",
       "      <td>-124.350000</td>\n",
       "      <td>0.149990</td>\n",
       "    </tr>\n",
       "    <tr>\n",
       "      <th>25%</th>\n",
       "      <td>2.563400</td>\n",
       "      <td>18.000000</td>\n",
       "      <td>4.440716</td>\n",
       "      <td>1.006079</td>\n",
       "      <td>787.000000</td>\n",
       "      <td>2.429741</td>\n",
       "      <td>33.930000</td>\n",
       "      <td>-121.800000</td>\n",
       "      <td>1.196000</td>\n",
       "    </tr>\n",
       "    <tr>\n",
       "      <th>50%</th>\n",
       "      <td>3.534800</td>\n",
       "      <td>29.000000</td>\n",
       "      <td>5.229129</td>\n",
       "      <td>1.048780</td>\n",
       "      <td>1166.000000</td>\n",
       "      <td>2.818116</td>\n",
       "      <td>34.260000</td>\n",
       "      <td>-118.490000</td>\n",
       "      <td>1.797000</td>\n",
       "    </tr>\n",
       "    <tr>\n",
       "      <th>75%</th>\n",
       "      <td>4.743250</td>\n",
       "      <td>37.000000</td>\n",
       "      <td>6.052381</td>\n",
       "      <td>1.099526</td>\n",
       "      <td>1725.000000</td>\n",
       "      <td>3.282261</td>\n",
       "      <td>37.710000</td>\n",
       "      <td>-118.010000</td>\n",
       "      <td>2.647250</td>\n",
       "    </tr>\n",
       "    <tr>\n",
       "      <th>max</th>\n",
       "      <td>15.000100</td>\n",
       "      <td>52.000000</td>\n",
       "      <td>141.909091</td>\n",
       "      <td>34.066667</td>\n",
       "      <td>35682.000000</td>\n",
       "      <td>1243.333333</td>\n",
       "      <td>41.950000</td>\n",
       "      <td>-114.310000</td>\n",
       "      <td>5.000010</td>\n",
       "    </tr>\n",
       "  </tbody>\n",
       "</table>\n",
       "</div>"
      ]
     },
     "execution_count": 36,
     "metadata": {},
     "output_type": "execute_result"
    }
   ],
   "execution_count": 36
  },
  {
   "metadata": {},
   "cell_type": "markdown",
   "source": "Do we have NA/missing values?",
   "id": "e5c82cacce60510b"
  },
  {
   "metadata": {
    "ExecuteTime": {
     "end_time": "2025-09-28T09:27:10.380966Z",
     "start_time": "2025-09-28T09:27:10.348399Z"
    }
   },
   "cell_type": "code",
   "source": "data.isna().sum()",
   "id": "8e6ef4a073436f3",
   "outputs": [
    {
     "data": {
      "text/plain": [
       "MedInc         0\n",
       "HouseAge       0\n",
       "AveRooms       0\n",
       "AveBedrms      0\n",
       "Population     0\n",
       "AveOccup       0\n",
       "Latitude       0\n",
       "Longitude      0\n",
       "MedHouseVal    0\n",
       "dtype: int64"
      ]
     },
     "execution_count": 37,
     "metadata": {},
     "output_type": "execute_result"
    }
   ],
   "execution_count": 37
  },
  {
   "metadata": {},
   "cell_type": "markdown",
   "source": "Do we have outliers?",
   "id": "e46502627043356c"
  },
  {
   "metadata": {},
   "cell_type": "markdown",
   "source": "![IQR.png](data:image/png;base64,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)",
   "id": "278d078f1fa4dffd"
  },
  {
   "metadata": {
    "ExecuteTime": {
     "end_time": "2025-09-28T09:27:11.136128Z",
     "start_time": "2025-09-28T09:27:11.012908Z"
    }
   },
   "cell_type": "code",
   "source": [
    "for col in data.columns:\n",
    "\n",
    "    Q1 = data[col].quantile(0.25)\n",
    "    Q3 = data[col].quantile(0.75)\n",
    "    IQR = Q3 - Q1\n",
    "\n",
    "    lower = Q1 - 1.5 * IQR\n",
    "    upper = Q3 + 1.5 * IQR\n",
    "\n",
    "    data = data[(data[col] >= lower) & (data[col] <= upper)]\n"
   ],
   "id": "924355837bfb42c0",
   "outputs": [],
   "execution_count": 38
  },
  {
   "metadata": {},
   "cell_type": "markdown",
   "source": "### 3. Divide in train and test",
   "id": "82af0626c786fb78"
  },
  {
   "metadata": {
    "ExecuteTime": {
     "end_time": "2025-09-28T09:27:11.814691Z",
     "start_time": "2025-09-28T09:27:11.655197Z"
    }
   },
   "cell_type": "code",
   "source": [
    "train, test = train_test_split(data, test_size=0.2, random_state=42)\n",
    "\n",
    "display(train.head())\n",
    "display(test.head())"
   ],
   "id": "de8768f7d7e83550",
   "outputs": [
    {
     "data": {
      "text/plain": [
       "       MedInc  HouseAge  AveRooms  AveBedrms  Population  AveOccup  Latitude  \\\n",
       "4302   1.9063      52.0  3.603399   0.912181       984.0  2.787535     34.09   \n",
       "17739  5.9399      10.0  6.036424   1.048565      3083.0  3.402870     37.30   \n",
       "1001   3.5532      36.0  4.534946   1.000000       950.0  2.553763     37.68   \n",
       "4625   3.5909      25.0  4.126506   1.064759      1420.0  2.138554     34.07   \n",
       "613    4.6042      51.0  6.664122   1.025445       922.0  2.346056     37.73   \n",
       "\n",
       "       Longitude  MedHouseVal  \n",
       "4302     -118.29        2.616  \n",
       "17739    -121.79        2.419  \n",
       "1001     -121.77        1.584  \n",
       "4625     -118.32        4.045  \n",
       "613      -122.14        2.519  "
      ],
      "text/html": [
       "<div>\n",
       "<style scoped>\n",
       "    .dataframe tbody tr th:only-of-type {\n",
       "        vertical-align: middle;\n",
       "    }\n",
       "\n",
       "    .dataframe tbody tr th {\n",
       "        vertical-align: top;\n",
       "    }\n",
       "\n",
       "    .dataframe thead th {\n",
       "        text-align: right;\n",
       "    }\n",
       "</style>\n",
       "<table border=\"1\" class=\"dataframe\">\n",
       "  <thead>\n",
       "    <tr style=\"text-align: right;\">\n",
       "      <th></th>\n",
       "      <th>MedInc</th>\n",
       "      <th>HouseAge</th>\n",
       "      <th>AveRooms</th>\n",
       "      <th>AveBedrms</th>\n",
       "      <th>Population</th>\n",
       "      <th>AveOccup</th>\n",
       "      <th>Latitude</th>\n",
       "      <th>Longitude</th>\n",
       "      <th>MedHouseVal</th>\n",
       "    </tr>\n",
       "  </thead>\n",
       "  <tbody>\n",
       "    <tr>\n",
       "      <th>4302</th>\n",
       "      <td>1.9063</td>\n",
       "      <td>52.0</td>\n",
       "      <td>3.603399</td>\n",
       "      <td>0.912181</td>\n",
       "      <td>984.0</td>\n",
       "      <td>2.787535</td>\n",
       "      <td>34.09</td>\n",
       "      <td>-118.29</td>\n",
       "      <td>2.616</td>\n",
       "    </tr>\n",
       "    <tr>\n",
       "      <th>17739</th>\n",
       "      <td>5.9399</td>\n",
       "      <td>10.0</td>\n",
       "      <td>6.036424</td>\n",
       "      <td>1.048565</td>\n",
       "      <td>3083.0</td>\n",
       "      <td>3.402870</td>\n",
       "      <td>37.30</td>\n",
       "      <td>-121.79</td>\n",
       "      <td>2.419</td>\n",
       "    </tr>\n",
       "    <tr>\n",
       "      <th>1001</th>\n",
       "      <td>3.5532</td>\n",
       "      <td>36.0</td>\n",
       "      <td>4.534946</td>\n",
       "      <td>1.000000</td>\n",
       "      <td>950.0</td>\n",
       "      <td>2.553763</td>\n",
       "      <td>37.68</td>\n",
       "      <td>-121.77</td>\n",
       "      <td>1.584</td>\n",
       "    </tr>\n",
       "    <tr>\n",
       "      <th>4625</th>\n",
       "      <td>3.5909</td>\n",
       "      <td>25.0</td>\n",
       "      <td>4.126506</td>\n",
       "      <td>1.064759</td>\n",
       "      <td>1420.0</td>\n",
       "      <td>2.138554</td>\n",
       "      <td>34.07</td>\n",
       "      <td>-118.32</td>\n",
       "      <td>4.045</td>\n",
       "    </tr>\n",
       "    <tr>\n",
       "      <th>613</th>\n",
       "      <td>4.6042</td>\n",
       "      <td>51.0</td>\n",
       "      <td>6.664122</td>\n",
       "      <td>1.025445</td>\n",
       "      <td>922.0</td>\n",
       "      <td>2.346056</td>\n",
       "      <td>37.73</td>\n",
       "      <td>-122.14</td>\n",
       "      <td>2.519</td>\n",
       "    </tr>\n",
       "  </tbody>\n",
       "</table>\n",
       "</div>"
      ]
     },
     "metadata": {},
     "output_type": "display_data"
    },
    {
     "data": {
      "text/plain": [
       "       MedInc  HouseAge  AveRooms  AveBedrms  Population  AveOccup  Latitude  \\\n",
       "7794   3.2857      37.0  5.120000   1.151111       981.0  4.360000     33.89   \n",
       "9480   1.5625      21.0  3.930909   0.923636       715.0  2.600000     39.40   \n",
       "9273   7.5000       9.0  6.852632   0.931579       682.0  3.589474     38.15   \n",
       "11949  3.9118      32.0  5.527059   1.063529      1479.0  3.480000     33.94   \n",
       "13831  5.5875       9.0  7.593668   1.064644      2158.0  2.846966     34.51   \n",
       "\n",
       "       Longitude  MedHouseVal  \n",
       "7794     -118.08        1.536  \n",
       "9480     -123.36        0.715  \n",
       "9273     -122.58        4.232  \n",
       "11949    -117.44        1.141  \n",
       "13831    -117.23        1.678  "
      ],
      "text/html": [
       "<div>\n",
       "<style scoped>\n",
       "    .dataframe tbody tr th:only-of-type {\n",
       "        vertical-align: middle;\n",
       "    }\n",
       "\n",
       "    .dataframe tbody tr th {\n",
       "        vertical-align: top;\n",
       "    }\n",
       "\n",
       "    .dataframe thead th {\n",
       "        text-align: right;\n",
       "    }\n",
       "</style>\n",
       "<table border=\"1\" class=\"dataframe\">\n",
       "  <thead>\n",
       "    <tr style=\"text-align: right;\">\n",
       "      <th></th>\n",
       "      <th>MedInc</th>\n",
       "      <th>HouseAge</th>\n",
       "      <th>AveRooms</th>\n",
       "      <th>AveBedrms</th>\n",
       "      <th>Population</th>\n",
       "      <th>AveOccup</th>\n",
       "      <th>Latitude</th>\n",
       "      <th>Longitude</th>\n",
       "      <th>MedHouseVal</th>\n",
       "    </tr>\n",
       "  </thead>\n",
       "  <tbody>\n",
       "    <tr>\n",
       "      <th>7794</th>\n",
       "      <td>3.2857</td>\n",
       "      <td>37.0</td>\n",
       "      <td>5.120000</td>\n",
       "      <td>1.151111</td>\n",
       "      <td>981.0</td>\n",
       "      <td>4.360000</td>\n",
       "      <td>33.89</td>\n",
       "      <td>-118.08</td>\n",
       "      <td>1.536</td>\n",
       "    </tr>\n",
       "    <tr>\n",
       "      <th>9480</th>\n",
       "      <td>1.5625</td>\n",
       "      <td>21.0</td>\n",
       "      <td>3.930909</td>\n",
       "      <td>0.923636</td>\n",
       "      <td>715.0</td>\n",
       "      <td>2.600000</td>\n",
       "      <td>39.40</td>\n",
       "      <td>-123.36</td>\n",
       "      <td>0.715</td>\n",
       "    </tr>\n",
       "    <tr>\n",
       "      <th>9273</th>\n",
       "      <td>7.5000</td>\n",
       "      <td>9.0</td>\n",
       "      <td>6.852632</td>\n",
       "      <td>0.931579</td>\n",
       "      <td>682.0</td>\n",
       "      <td>3.589474</td>\n",
       "      <td>38.15</td>\n",
       "      <td>-122.58</td>\n",
       "      <td>4.232</td>\n",
       "    </tr>\n",
       "    <tr>\n",
       "      <th>11949</th>\n",
       "      <td>3.9118</td>\n",
       "      <td>32.0</td>\n",
       "      <td>5.527059</td>\n",
       "      <td>1.063529</td>\n",
       "      <td>1479.0</td>\n",
       "      <td>3.480000</td>\n",
       "      <td>33.94</td>\n",
       "      <td>-117.44</td>\n",
       "      <td>1.141</td>\n",
       "    </tr>\n",
       "    <tr>\n",
       "      <th>13831</th>\n",
       "      <td>5.5875</td>\n",
       "      <td>9.0</td>\n",
       "      <td>7.593668</td>\n",
       "      <td>1.064644</td>\n",
       "      <td>2158.0</td>\n",
       "      <td>2.846966</td>\n",
       "      <td>34.51</td>\n",
       "      <td>-117.23</td>\n",
       "      <td>1.678</td>\n",
       "    </tr>\n",
       "  </tbody>\n",
       "</table>\n",
       "</div>"
      ]
     },
     "metadata": {},
     "output_type": "display_data"
    }
   ],
   "execution_count": 39
  },
  {
   "metadata": {},
   "cell_type": "markdown",
   "source": "What is the difference between train and test?",
   "id": "eb1f55876ab45383"
  },
  {
   "metadata": {
    "ExecuteTime": {
     "end_time": "2025-09-28T09:27:12.207153Z",
     "start_time": "2025-09-28T09:27:12.171741Z"
    }
   },
   "cell_type": "code",
   "source": "print(f\"Train has {len(train)} rows and test has {len(test)} rows\")",
   "id": "eadb0679d8d5d23f",
   "outputs": [
    {
     "name": "stdout",
     "output_type": "stream",
     "text": [
      "Train has 12985 rows and test has 3247 rows\n"
     ]
    }
   ],
   "execution_count": 40
  },
  {
   "metadata": {},
   "cell_type": "markdown",
   "source": "Before going into training, we must go through a last step, separating our predictive and target variables.",
   "id": "c4a2d42a48f21b"
  },
  {
   "metadata": {
    "ExecuteTime": {
     "end_time": "2025-09-28T09:27:12.567976Z",
     "start_time": "2025-09-28T09:27:12.543197Z"
    }
   },
   "cell_type": "code",
   "source": [
    "X_train = train.drop(columns=[\"MedHouseVal\"])\n",
    "y_train = train[\"MedHouseVal\"]\n",
    "\n",
    "X_test = test.drop(columns=[\"MedHouseVal\"])\n",
    "y_test = test[\"MedHouseVal\"]"
   ],
   "id": "db71a41812dfc4c2",
   "outputs": [],
   "execution_count": 41
  },
  {
   "metadata": {},
   "cell_type": "markdown",
   "source": [
    "### 4. Train the model\n",
    "\n",
    "Alright, now that our data is clean and processed, and that we have divided it in tran and test sets, we are ready to train the model. But, which model should we choose?\n",
    "\n",
    "This is the big question, and the answer depends on multiple factors.\n",
    "- Predictive features type\n",
    "- Model complexity\n",
    "- Relationship betweeen features\n",
    "\n",
    "All models have different characteristics, and adjust better to certain types of datasets. In our case, ALL of our features are ______ and we want to choose a relatively simple model."
   ],
   "id": "3dc95f869e18188e"
  },
  {
   "metadata": {
    "ExecuteTime": {
     "end_time": "2025-09-28T09:27:12.688666Z",
     "start_time": "2025-09-28T09:27:12.624250Z"
    }
   },
   "cell_type": "code",
   "source": [
    "model = LinearRegression()\n",
    "model.fit(X_train, y_train);"
   ],
   "id": "51351b662ca43538",
   "outputs": [],
   "execution_count": 42
  },
  {
   "metadata": {},
   "cell_type": "markdown",
   "source": [
    "### 5. Evaluate the model\n",
    "How can we know if our model's predictions are good?\n",
    "\n",
    "For that we can use a series of metrics that are calculated comparing the real values (y_test) against the model's predictions (y_pred) for test data.\n",
    "The most common is the MSE(Mean Squared Error)"
   ],
   "id": "25c836c4d8dc4cb"
  },
  {
   "metadata": {},
   "cell_type": "markdown",
   "source": "![MSE.png](data:image/png;base64,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)\n",
   "id": "4772ec8ddb44d3e0"
  },
  {
   "metadata": {
    "ExecuteTime": {
     "end_time": "2025-09-28T09:27:12.838987Z",
     "start_time": "2025-09-28T09:27:12.800959Z"
    }
   },
   "cell_type": "code",
   "source": [
    "y_pred_train = model.predict(X_train)\n",
    "y_pred_test = model.predict(X_test)\n",
    "\n",
    "print(\"=== Training Performance ===\")\n",
    "print(\"MSE:\", mean_squared_error(y_train, y_pred_train))\n",
    "\n",
    "print(\"\\n=== Test Performance ===\")\n",
    "print(\"MSE:\", mean_squared_error(y_test, y_pred_test))"
   ],
   "id": "b60b593522129db9",
   "outputs": [
    {
     "name": "stdout",
     "output_type": "stream",
     "text": [
      "=== Training Performance ===\n",
      "MSE: 0.31210912899399684\n",
      "\n",
      "=== Test Performance ===\n",
      "MSE: 0.3146760712686995\n"
     ]
    }
   ],
   "execution_count": 43
  },
  {
   "metadata": {},
   "cell_type": "markdown",
   "source": "We can also use matplotlib to check our results visually.",
   "id": "b160155ffe3cd3d0"
  },
  {
   "metadata": {
    "ExecuteTime": {
     "end_time": "2025-09-28T09:27:14.562749Z",
     "start_time": "2025-09-28T09:27:13.043099Z"
    }
   },
   "cell_type": "code",
   "source": [
    "subset = X_test.copy()\n",
    "subset['y_real'] = y_test\n",
    "subset['y_pred'] = model.predict(X_test)\n",
    "subset_20 = subset.sample(n=20, random_state=42)\n",
    "\n",
    "index = range(len(subset_20))\n",
    "\n",
    "plt.figure(figsize=(12,6))\n",
    "\n",
    "plt.scatter(index, subset_20['y_real'], color='red', label='Valor Real', s=100)\n",
    "plt.scatter(index, subset_20['y_pred'], color='blue', label='Predicción', s=100, marker='x')\n",
    "\n",
    "plt.xticks(index, subset_20.index, rotation=45)\n",
    "plt.ylabel('Target')\n",
    "plt.title('Comparison of 20 Real VS Predicted Values')\n",
    "plt.legend()\n",
    "plt.tight_layout()\n",
    "plt.show()"
   ],
   "id": "ce75b9eed6fc13f7",
   "outputs": [
    {
     "data": {
      "text/plain": [
       "<Figure size 1200x600 with 1 Axes>"
      ],
      "image/png": "[encoded data removed]"
     },
     "metadata": {},
     "output_type": "display_data"
    }
   ],
   "execution_count": 44
  },
  {
   "metadata": {},
   "cell_type": "markdown",
   "source": [
    "## Problem 2: Miles per Gallon\n",
    "\n",
    "For the second problem, we are going to do something similar, but with a very different dataset. This will teach us that we must understand the data well in order to adapt every step of the process. Now we will work with different types of variables, and we will compare different models to choose the best one.\n",
    "\n",
    "These are the variables we will be working with:\n",
    "\n",
    "- **mpg**: fuel consumption in miles per gallon (target variable)\n",
    "- **cylinders**: number of engine cylinders\n",
    "- **displacement**: engine size\n",
    "- **horsepower**: engine power\n",
    "- **weight**: vehicle weight\n",
    "- **acceleration**: time it takes to accelerate from 0 to 60 mph\n",
    "- **model_year**: year of the car model\n",
    "- **origin**: manufacturing region\n",
    "- **name**: car name (brand and model)\n"
   ],
   "id": "559885adc6c7fee5"
  },
  {
   "metadata": {},
   "cell_type": "markdown",
   "source": "### 1. Import data",
   "id": "154c6139510642ae"
  },
  {
   "metadata": {
    "ExecuteTime": {
     "end_time": "2025-09-28T09:27:14.898654Z",
     "start_time": "2025-09-28T09:27:14.870655Z"
    }
   },
   "cell_type": "code",
   "source": "mpg = sns.load_dataset(\"mpg\")",
   "id": "27dfef553742469e",
   "outputs": [],
   "execution_count": 45
  },
  {
   "metadata": {
    "ExecuteTime": {
     "end_time": "2025-09-28T09:27:15.636741Z",
     "start_time": "2025-09-28T09:27:15.610180Z"
    }
   },
   "cell_type": "code",
   "source": "mpg.head()",
   "id": "47646e3faa7c69cf",
   "outputs": [
    {
     "data": {
      "text/plain": [
       "    mpg  cylinders  displacement  horsepower  weight  acceleration  \\\n",
       "0  18.0          8         307.0       130.0    3504          12.0   \n",
       "1  15.0          8         350.0       165.0    3693          11.5   \n",
       "2  18.0          8         318.0       150.0    3436          11.0   \n",
       "3  16.0          8         304.0       150.0    3433          12.0   \n",
       "4  17.0          8         302.0       140.0    3449          10.5   \n",
       "\n",
       "   model_year origin                       name  \n",
       "0          70    usa  chevrolet chevelle malibu  \n",
       "1          70    usa          buick skylark 320  \n",
       "2          70    usa         plymouth satellite  \n",
       "3          70    usa              amc rebel sst  \n",
       "4          70    usa                ford torino  "
      ],
      "text/html": [
       "<div>\n",
       "<style scoped>\n",
       "    .dataframe tbody tr th:only-of-type {\n",
       "        vertical-align: middle;\n",
       "    }\n",
       "\n",
       "    .dataframe tbody tr th {\n",
       "        vertical-align: top;\n",
       "    }\n",
       "\n",
       "    .dataframe thead th {\n",
       "        text-align: right;\n",
       "    }\n",
       "</style>\n",
       "<table border=\"1\" class=\"dataframe\">\n",
       "  <thead>\n",
       "    <tr style=\"text-align: right;\">\n",
       "      <th></th>\n",
       "      <th>mpg</th>\n",
       "      <th>cylinders</th>\n",
       "      <th>displacement</th>\n",
       "      <th>horsepower</th>\n",
       "      <th>weight</th>\n",
       "      <th>acceleration</th>\n",
       "      <th>model_year</th>\n",
       "      <th>origin</th>\n",
       "      <th>name</th>\n",
       "    </tr>\n",
       "  </thead>\n",
       "  <tbody>\n",
       "    <tr>\n",
       "      <th>0</th>\n",
       "      <td>18.0</td>\n",
       "      <td>8</td>\n",
       "      <td>307.0</td>\n",
       "      <td>130.0</td>\n",
       "      <td>3504</td>\n",
       "      <td>12.0</td>\n",
       "      <td>70</td>\n",
       "      <td>usa</td>\n",
       "      <td>chevrolet chevelle malibu</td>\n",
       "    </tr>\n",
       "    <tr>\n",
       "      <th>1</th>\n",
       "      <td>15.0</td>\n",
       "      <td>8</td>\n",
       "      <td>350.0</td>\n",
       "      <td>165.0</td>\n",
       "      <td>3693</td>\n",
       "      <td>11.5</td>\n",
       "      <td>70</td>\n",
       "      <td>usa</td>\n",
       "      <td>buick skylark 320</td>\n",
       "    </tr>\n",
       "    <tr>\n",
       "      <th>2</th>\n",
       "      <td>18.0</td>\n",
       "      <td>8</td>\n",
       "      <td>318.0</td>\n",
       "      <td>150.0</td>\n",
       "      <td>3436</td>\n",
       "      <td>11.0</td>\n",
       "      <td>70</td>\n",
       "      <td>usa</td>\n",
       "      <td>plymouth satellite</td>\n",
       "    </tr>\n",
       "    <tr>\n",
       "      <th>3</th>\n",
       "      <td>16.0</td>\n",
       "      <td>8</td>\n",
       "      <td>304.0</td>\n",
       "      <td>150.0</td>\n",
       "      <td>3433</td>\n",
       "      <td>12.0</td>\n",
       "      <td>70</td>\n",
       "      <td>usa</td>\n",
       "      <td>amc rebel sst</td>\n",
       "    </tr>\n",
       "    <tr>\n",
       "      <th>4</th>\n",
       "      <td>17.0</td>\n",
       "      <td>8</td>\n",
       "      <td>302.0</td>\n",
       "      <td>140.0</td>\n",
       "      <td>3449</td>\n",
       "      <td>10.5</td>\n",
       "      <td>70</td>\n",
       "      <td>usa</td>\n",
       "      <td>ford torino</td>\n",
       "    </tr>\n",
       "  </tbody>\n",
       "</table>\n",
       "</div>"
      ]
     },
     "execution_count": 46,
     "metadata": {},
     "output_type": "execute_result"
    }
   ],
   "execution_count": 46
  },
  {
   "metadata": {},
   "cell_type": "markdown",
   "source": "How many observations/rows?",
   "id": "d65ac94989a1825e"
  },
  {
   "metadata": {
    "ExecuteTime": {
     "end_time": "2025-09-28T09:27:15.947953Z",
     "start_time": "2025-09-28T09:27:15.931810Z"
    }
   },
   "cell_type": "code",
   "source": "print(f\"We have a total of  {len(mpg)} cars\")",
   "id": "32ff5a782bc89bb2",
   "outputs": [
    {
     "name": "stdout",
     "output_type": "stream",
     "text": [
      "We have a total of  398 cars\n"
     ]
    }
   ],
   "execution_count": 47
  },
  {
   "metadata": {},
   "cell_type": "markdown",
   "source": "### 2. Process data",
   "id": "65124b3e69dac50d"
  },
  {
   "metadata": {
    "ExecuteTime": {
     "end_time": "2025-09-28T09:27:16.734205Z",
     "start_time": "2025-09-28T09:27:16.555789Z"
    }
   },
   "cell_type": "code",
   "source": "mpg.describe()",
   "id": "7a513504cb3afd1d",
   "outputs": [
    {
     "data": {
      "text/plain": [
       "              mpg   cylinders  displacement  horsepower       weight  \\\n",
       "count  398.000000  398.000000    398.000000  392.000000   398.000000   \n",
       "mean    23.514573    5.454774    193.425879  104.469388  2970.424623   \n",
       "std      7.815984    1.701004    104.269838   38.491160   846.841774   \n",
       "min      9.000000    3.000000     68.000000   46.000000  1613.000000   \n",
       "25%     17.500000    4.000000    104.250000   75.000000  2223.750000   \n",
       "50%     23.000000    4.000000    148.500000   93.500000  2803.500000   \n",
       "75%     29.000000    8.000000    262.000000  126.000000  3608.000000   \n",
       "max     46.600000    8.000000    455.000000  230.000000  5140.000000   \n",
       "\n",
       "       acceleration  model_year  \n",
       "count    398.000000  398.000000  \n",
       "mean      15.568090   76.010050  \n",
       "std        2.757689    3.697627  \n",
       "min        8.000000   70.000000  \n",
       "25%       13.825000   73.000000  \n",
       "50%       15.500000   76.000000  \n",
       "75%       17.175000   79.000000  \n",
       "max       24.800000   82.000000  "
      ],
      "text/html": [
       "<div>\n",
       "<style scoped>\n",
       "    .dataframe tbody tr th:only-of-type {\n",
       "        vertical-align: middle;\n",
       "    }\n",
       "\n",
       "    .dataframe tbody tr th {\n",
       "        vertical-align: top;\n",
       "    }\n",
       "\n",
       "    .dataframe thead th {\n",
       "        text-align: right;\n",
       "    }\n",
       "</style>\n",
       "<table border=\"1\" class=\"dataframe\">\n",
       "  <thead>\n",
       "    <tr style=\"text-align: right;\">\n",
       "      <th></th>\n",
       "      <th>mpg</th>\n",
       "      <th>cylinders</th>\n",
       "      <th>displacement</th>\n",
       "      <th>horsepower</th>\n",
       "      <th>weight</th>\n",
       "      <th>acceleration</th>\n",
       "      <th>model_year</th>\n",
       "    </tr>\n",
       "  </thead>\n",
       "  <tbody>\n",
       "    <tr>\n",
       "      <th>count</th>\n",
       "      <td>398.000000</td>\n",
       "      <td>398.000000</td>\n",
       "      <td>398.000000</td>\n",
       "      <td>392.000000</td>\n",
       "      <td>398.000000</td>\n",
       "      <td>398.000000</td>\n",
       "      <td>398.000000</td>\n",
       "    </tr>\n",
       "    <tr>\n",
       "      <th>mean</th>\n",
       "      <td>23.514573</td>\n",
       "      <td>5.454774</td>\n",
       "      <td>193.425879</td>\n",
       "      <td>104.469388</td>\n",
       "      <td>2970.424623</td>\n",
       "      <td>15.568090</td>\n",
       "      <td>76.010050</td>\n",
       "    </tr>\n",
       "    <tr>\n",
       "      <th>std</th>\n",
       "      <td>7.815984</td>\n",
       "      <td>1.701004</td>\n",
       "      <td>104.269838</td>\n",
       "      <td>38.491160</td>\n",
       "      <td>846.841774</td>\n",
       "      <td>2.757689</td>\n",
       "      <td>3.697627</td>\n",
       "    </tr>\n",
       "    <tr>\n",
       "      <th>min</th>\n",
       "      <td>9.000000</td>\n",
       "      <td>3.000000</td>\n",
       "      <td>68.000000</td>\n",
       "      <td>46.000000</td>\n",
       "      <td>1613.000000</td>\n",
       "      <td>8.000000</td>\n",
       "      <td>70.000000</td>\n",
       "    </tr>\n",
       "    <tr>\n",
       "      <th>25%</th>\n",
       "      <td>17.500000</td>\n",
       "      <td>4.000000</td>\n",
       "      <td>104.250000</td>\n",
       "      <td>75.000000</td>\n",
       "      <td>2223.750000</td>\n",
       "      <td>13.825000</td>\n",
       "      <td>73.000000</td>\n",
       "    </tr>\n",
       "    <tr>\n",
       "      <th>50%</th>\n",
       "      <td>23.000000</td>\n",
       "      <td>4.000000</td>\n",
       "      <td>148.500000</td>\n",
       "      <td>93.500000</td>\n",
       "      <td>2803.500000</td>\n",
       "      <td>15.500000</td>\n",
       "      <td>76.000000</td>\n",
       "    </tr>\n",
       "    <tr>\n",
       "      <th>75%</th>\n",
       "      <td>29.000000</td>\n",
       "      <td>8.000000</td>\n",
       "      <td>262.000000</td>\n",
       "      <td>126.000000</td>\n",
       "      <td>3608.000000</td>\n",
       "      <td>17.175000</td>\n",
       "      <td>79.000000</td>\n",
       "    </tr>\n",
       "    <tr>\n",
       "      <th>max</th>\n",
       "      <td>46.600000</td>\n",
       "      <td>8.000000</td>\n",
       "      <td>455.000000</td>\n",
       "      <td>230.000000</td>\n",
       "      <td>5140.000000</td>\n",
       "      <td>24.800000</td>\n",
       "      <td>82.000000</td>\n",
       "    </tr>\n",
       "  </tbody>\n",
       "</table>\n",
       "</div>"
      ]
     },
     "execution_count": 48,
     "metadata": {},
     "output_type": "execute_result"
    }
   ],
   "execution_count": 48
  },
  {
   "metadata": {},
   "cell_type": "markdown",
   "source": "Unlike in the first problem, this time we have to process some variables individually",
   "id": "fc05c2b53fb6fa6c"
  },
  {
   "metadata": {
    "ExecuteTime": {
     "end_time": "2025-09-28T09:27:17.093199Z",
     "start_time": "2025-09-28T09:27:17.072250Z"
    }
   },
   "cell_type": "code",
   "source": "print(f\"There are a total of {len(mpg['name'].unique())} different names/car models\")",
   "id": "905a9dd8f814664b",
   "outputs": [
    {
     "name": "stdout",
     "output_type": "stream",
     "text": [
      "There are a total of 305 different names/car models\n"
     ]
    }
   ],
   "execution_count": 49
  },
  {
   "metadata": {
    "ExecuteTime": {
     "end_time": "2025-09-28T09:27:17.433266Z",
     "start_time": "2025-09-28T09:27:17.393658Z"
    }
   },
   "cell_type": "code",
   "source": "mpg.drop(columns=[\"name\"], inplace=True)",
   "id": "8695813b4f5e8fb3",
   "outputs": [],
   "execution_count": 50
  },
  {
   "metadata": {},
   "cell_type": "markdown",
   "source": [
    "Additionally, the origin variable is not numerical, which means our models won’t be able to train with it as it is.\n",
    "We need to change its format, because if we simply remove it, we would lose valuable information.\n",
    "We will convert it into a **dummy variable**.\n"
   ],
   "id": "4aaea340a1e61bc4"
  },
  {
   "metadata": {
    "ExecuteTime": {
     "end_time": "2025-09-28T09:27:17.748133Z",
     "start_time": "2025-09-28T09:27:17.727453Z"
    }
   },
   "cell_type": "code",
   "source": "print(mpg['origin'].unique())",
   "id": "662207bd456f122d",
   "outputs": [
    {
     "name": "stdout",
     "output_type": "stream",
     "text": [
      "['usa' 'japan' 'europe']\n"
     ]
    }
   ],
   "execution_count": 51
  },
  {
   "metadata": {
    "ExecuteTime": {
     "end_time": "2025-09-28T09:27:17.952474Z",
     "start_time": "2025-09-28T09:27:17.907477Z"
    }
   },
   "cell_type": "code",
   "source": [
    "mpg = pd.get_dummies(mpg, columns=['origin'], drop_first=True)\n",
    "mpg.head()"
   ],
   "id": "5b78fa338971ff",
   "outputs": [
    {
     "data": {
      "text/plain": [
       "    mpg  cylinders  displacement  horsepower  weight  acceleration  \\\n",
       "0  18.0          8         307.0       130.0    3504          12.0   \n",
       "1  15.0          8         350.0       165.0    3693          11.5   \n",
       "2  18.0          8         318.0       150.0    3436          11.0   \n",
       "3  16.0          8         304.0       150.0    3433          12.0   \n",
       "4  17.0          8         302.0       140.0    3449          10.5   \n",
       "\n",
       "   model_year  origin_japan  origin_usa  \n",
       "0          70         False        True  \n",
       "1          70         False        True  \n",
       "2          70         False        True  \n",
       "3          70         False        True  \n",
       "4          70         False        True  "
      ],
      "text/html": [
       "<div>\n",
       "<style scoped>\n",
       "    .dataframe tbody tr th:only-of-type {\n",
       "        vertical-align: middle;\n",
       "    }\n",
       "\n",
       "    .dataframe tbody tr th {\n",
       "        vertical-align: top;\n",
       "    }\n",
       "\n",
       "    .dataframe thead th {\n",
       "        text-align: right;\n",
       "    }\n",
       "</style>\n",
       "<table border=\"1\" class=\"dataframe\">\n",
       "  <thead>\n",
       "    <tr style=\"text-align: right;\">\n",
       "      <th></th>\n",
       "      <th>mpg</th>\n",
       "      <th>cylinders</th>\n",
       "      <th>displacement</th>\n",
       "      <th>horsepower</th>\n",
       "      <th>weight</th>\n",
       "      <th>acceleration</th>\n",
       "      <th>model_year</th>\n",
       "      <th>origin_japan</th>\n",
       "      <th>origin_usa</th>\n",
       "    </tr>\n",
       "  </thead>\n",
       "  <tbody>\n",
       "    <tr>\n",
       "      <th>0</th>\n",
       "      <td>18.0</td>\n",
       "      <td>8</td>\n",
       "      <td>307.0</td>\n",
       "      <td>130.0</td>\n",
       "      <td>3504</td>\n",
       "      <td>12.0</td>\n",
       "      <td>70</td>\n",
       "      <td>False</td>\n",
       "      <td>True</td>\n",
       "    </tr>\n",
       "    <tr>\n",
       "      <th>1</th>\n",
       "      <td>15.0</td>\n",
       "      <td>8</td>\n",
       "      <td>350.0</td>\n",
       "      <td>165.0</td>\n",
       "      <td>3693</td>\n",
       "      <td>11.5</td>\n",
       "      <td>70</td>\n",
       "      <td>False</td>\n",
       "      <td>True</td>\n",
       "    </tr>\n",
       "    <tr>\n",
       "      <th>2</th>\n",
       "      <td>18.0</td>\n",
       "      <td>8</td>\n",
       "      <td>318.0</td>\n",
       "      <td>150.0</td>\n",
       "      <td>3436</td>\n",
       "      <td>11.0</td>\n",
       "      <td>70</td>\n",
       "      <td>False</td>\n",
       "      <td>True</td>\n",
       "    </tr>\n",
       "    <tr>\n",
       "      <th>3</th>\n",
       "      <td>16.0</td>\n",
       "      <td>8</td>\n",
       "      <td>304.0</td>\n",
       "      <td>150.0</td>\n",
       "      <td>3433</td>\n",
       "      <td>12.0</td>\n",
       "      <td>70</td>\n",
       "      <td>False</td>\n",
       "      <td>True</td>\n",
       "    </tr>\n",
       "    <tr>\n",
       "      <th>4</th>\n",
       "      <td>17.0</td>\n",
       "      <td>8</td>\n",
       "      <td>302.0</td>\n",
       "      <td>140.0</td>\n",
       "      <td>3449</td>\n",
       "      <td>10.5</td>\n",
       "      <td>70</td>\n",
       "      <td>False</td>\n",
       "      <td>True</td>\n",
       "    </tr>\n",
       "  </tbody>\n",
       "</table>\n",
       "</div>"
      ]
     },
     "execution_count": 52,
     "metadata": {},
     "output_type": "execute_result"
    }
   ],
   "execution_count": 52
  },
  {
   "metadata": {},
   "cell_type": "markdown",
   "source": "Missing values",
   "id": "2f696e08f6c0c17a"
  },
  {
   "metadata": {
    "ExecuteTime": {
     "end_time": "2025-09-28T09:27:18.369957Z",
     "start_time": "2025-09-28T09:27:18.353288Z"
    }
   },
   "cell_type": "code",
   "source": "mpg.isna().sum()",
   "id": "f955febdf8fe38d2",
   "outputs": [
    {
     "data": {
      "text/plain": [
       "mpg             0\n",
       "cylinders       0\n",
       "displacement    0\n",
       "horsepower      6\n",
       "weight          0\n",
       "acceleration    0\n",
       "model_year      0\n",
       "origin_japan    0\n",
       "origin_usa      0\n",
       "dtype: int64"
      ]
     },
     "execution_count": 53,
     "metadata": {},
     "output_type": "execute_result"
    }
   ],
   "execution_count": 53
  },
  {
   "metadata": {},
   "cell_type": "markdown",
   "source": "We replace with the mean value",
   "id": "a6453fa1efa5d891"
  },
  {
   "metadata": {
    "ExecuteTime": {
     "end_time": "2025-09-28T09:27:18.888166Z",
     "start_time": "2025-09-28T09:27:18.869067Z"
    }
   },
   "cell_type": "code",
   "source": [
    "average_horsepower = np.mean(mpg[\"horsepower\"])\n",
    "mpg.loc[mpg['horsepower'].isna(), 'horsepower'] = average_horsepower"
   ],
   "id": "f429ceaa8035af5e",
   "outputs": [],
   "execution_count": 54
  },
  {
   "metadata": {},
   "cell_type": "markdown",
   "source": "Outliers",
   "id": "8ddeedd7e5b504b6"
  },
  {
   "metadata": {
    "ExecuteTime": {
     "end_time": "2025-09-28T09:27:19.282225Z",
     "start_time": "2025-09-28T09:27:19.230442Z"
    }
   },
   "cell_type": "code",
   "source": [
    "numeric_columns = mpg.select_dtypes(include=['int64', 'float64']).columns\n",
    "\n",
    "for col in numeric_columns:\n",
    "\n",
    "    Q1 = mpg[col].quantile(0.25)\n",
    "    Q3 = mpg[col].quantile(0.75)\n",
    "    IQR = Q3 - Q1\n",
    "\n",
    "    lower = Q1 - 1.5 * IQR\n",
    "    upper = Q3 + 1.5 * IQR\n",
    "\n",
    "    total_outliers = len(mpg[(mpg[col] < lower) | (mpg[col] > upper)])\n",
    "\n",
    "    print(f\"Column {col} has {total_outliers} outliers\")\n",
    "    #mpg = mpg[(data[col] >= lower) & (mpg[col] <= upper)]\n"
   ],
   "id": "465927dc62ce8116",
   "outputs": [
    {
     "name": "stdout",
     "output_type": "stream",
     "text": [
      "Column mpg has 1 outliers\n",
      "Column cylinders has 0 outliers\n",
      "Column displacement has 0 outliers\n",
      "Column horsepower has 11 outliers\n",
      "Column weight has 0 outliers\n",
      "Column acceleration has 7 outliers\n",
      "Column model_year has 0 outliers\n"
     ]
    }
   ],
   "execution_count": 55
  },
  {
   "metadata": {},
   "cell_type": "markdown",
   "source": "### 3. Divide in train and test",
   "id": "3e0f9288311a2d9a"
  },
  {
   "metadata": {
    "ExecuteTime": {
     "end_time": "2025-09-28T09:27:19.548668Z",
     "start_time": "2025-09-28T09:27:19.447038Z"
    }
   },
   "cell_type": "code",
   "source": [
    "train, test = train_test_split(mpg, test_size=0.2, random_state=42)\n",
    "\n",
    "display(train.head())\n",
    "display(test.head())"
   ],
   "id": "c6121fec5b5ae062",
   "outputs": [
    {
     "data": {
      "text/plain": [
       "      mpg  cylinders  displacement  horsepower  weight  acceleration  \\\n",
       "3    16.0          8         304.0       150.0    3433          12.0   \n",
       "18   27.0          4          97.0        88.0    2130          14.5   \n",
       "376  37.0          4          91.0        68.0    2025          18.2   \n",
       "248  36.1          4          91.0        60.0    1800          16.4   \n",
       "177  23.0          4         115.0        95.0    2694          15.0   \n",
       "\n",
       "     model_year  origin_japan  origin_usa  \n",
       "3            70         False        True  \n",
       "18           70          True       False  \n",
       "376          82          True       False  \n",
       "248          78          True       False  \n",
       "177          75         False       False  "
      ],
      "text/html": [
       "<div>\n",
       "<style scoped>\n",
       "    .dataframe tbody tr th:only-of-type {\n",
       "        vertical-align: middle;\n",
       "    }\n",
       "\n",
       "    .dataframe tbody tr th {\n",
       "        vertical-align: top;\n",
       "    }\n",
       "\n",
       "    .dataframe thead th {\n",
       "        text-align: right;\n",
       "    }\n",
       "</style>\n",
       "<table border=\"1\" class=\"dataframe\">\n",
       "  <thead>\n",
       "    <tr style=\"text-align: right;\">\n",
       "      <th></th>\n",
       "      <th>mpg</th>\n",
       "      <th>cylinders</th>\n",
       "      <th>displacement</th>\n",
       "      <th>horsepower</th>\n",
       "      <th>weight</th>\n",
       "      <th>acceleration</th>\n",
       "      <th>model_year</th>\n",
       "      <th>origin_japan</th>\n",
       "      <th>origin_usa</th>\n",
       "    </tr>\n",
       "  </thead>\n",
       "  <tbody>\n",
       "    <tr>\n",
       "      <th>3</th>\n",
       "      <td>16.0</td>\n",
       "      <td>8</td>\n",
       "      <td>304.0</td>\n",
       "      <td>150.0</td>\n",
       "      <td>3433</td>\n",
       "      <td>12.0</td>\n",
       "      <td>70</td>\n",
       "      <td>False</td>\n",
       "      <td>True</td>\n",
       "    </tr>\n",
       "    <tr>\n",
       "      <th>18</th>\n",
       "      <td>27.0</td>\n",
       "      <td>4</td>\n",
       "      <td>97.0</td>\n",
       "      <td>88.0</td>\n",
       "      <td>2130</td>\n",
       "      <td>14.5</td>\n",
       "      <td>70</td>\n",
       "      <td>True</td>\n",
       "      <td>False</td>\n",
       "    </tr>\n",
       "    <tr>\n",
       "      <th>376</th>\n",
       "      <td>37.0</td>\n",
       "      <td>4</td>\n",
       "      <td>91.0</td>\n",
       "      <td>68.0</td>\n",
       "      <td>2025</td>\n",
       "      <td>18.2</td>\n",
       "      <td>82</td>\n",
       "      <td>True</td>\n",
       "      <td>False</td>\n",
       "    </tr>\n",
       "    <tr>\n",
       "      <th>248</th>\n",
       "      <td>36.1</td>\n",
       "      <td>4</td>\n",
       "      <td>91.0</td>\n",
       "      <td>60.0</td>\n",
       "      <td>1800</td>\n",
       "      <td>16.4</td>\n",
       "      <td>78</td>\n",
       "      <td>True</td>\n",
       "      <td>False</td>\n",
       "    </tr>\n",
       "    <tr>\n",
       "      <th>177</th>\n",
       "      <td>23.0</td>\n",
       "      <td>4</td>\n",
       "      <td>115.0</td>\n",
       "      <td>95.0</td>\n",
       "      <td>2694</td>\n",
       "      <td>15.0</td>\n",
       "      <td>75</td>\n",
       "      <td>False</td>\n",
       "      <td>False</td>\n",
       "    </tr>\n",
       "  </tbody>\n",
       "</table>\n",
       "</div>"
      ]
     },
     "metadata": {},
     "output_type": "display_data"
    },
    {
     "data": {
      "text/plain": [
       "      mpg  cylinders  displacement  horsepower  weight  acceleration  \\\n",
       "198  33.0          4          91.0        53.0    1795          17.4   \n",
       "396  28.0          4         120.0        79.0    2625          18.6   \n",
       "33   19.0          6         232.0       100.0    2634          13.0   \n",
       "208  13.0          8         318.0       150.0    3940          13.2   \n",
       "93   14.0          8         318.0       150.0    4237          14.5   \n",
       "\n",
       "     model_year  origin_japan  origin_usa  \n",
       "198          76          True       False  \n",
       "396          82         False        True  \n",
       "33           71         False        True  \n",
       "208          76         False        True  \n",
       "93           73         False        True  "
      ],
      "text/html": [
       "<div>\n",
       "<style scoped>\n",
       "    .dataframe tbody tr th:only-of-type {\n",
       "        vertical-align: middle;\n",
       "    }\n",
       "\n",
       "    .dataframe tbody tr th {\n",
       "        vertical-align: top;\n",
       "    }\n",
       "\n",
       "    .dataframe thead th {\n",
       "        text-align: right;\n",
       "    }\n",
       "</style>\n",
       "<table border=\"1\" class=\"dataframe\">\n",
       "  <thead>\n",
       "    <tr style=\"text-align: right;\">\n",
       "      <th></th>\n",
       "      <th>mpg</th>\n",
       "      <th>cylinders</th>\n",
       "      <th>displacement</th>\n",
       "      <th>horsepower</th>\n",
       "      <th>weight</th>\n",
       "      <th>acceleration</th>\n",
       "      <th>model_year</th>\n",
       "      <th>origin_japan</th>\n",
       "      <th>origin_usa</th>\n",
       "    </tr>\n",
       "  </thead>\n",
       "  <tbody>\n",
       "    <tr>\n",
       "      <th>198</th>\n",
       "      <td>33.0</td>\n",
       "      <td>4</td>\n",
       "      <td>91.0</td>\n",
       "      <td>53.0</td>\n",
       "      <td>1795</td>\n",
       "      <td>17.4</td>\n",
       "      <td>76</td>\n",
       "      <td>True</td>\n",
       "      <td>False</td>\n",
       "    </tr>\n",
       "    <tr>\n",
       "      <th>396</th>\n",
       "      <td>28.0</td>\n",
       "      <td>4</td>\n",
       "      <td>120.0</td>\n",
       "      <td>79.0</td>\n",
       "      <td>2625</td>\n",
       "      <td>18.6</td>\n",
       "      <td>82</td>\n",
       "      <td>False</td>\n",
       "      <td>True</td>\n",
       "    </tr>\n",
       "    <tr>\n",
       "      <th>33</th>\n",
       "      <td>19.0</td>\n",
       "      <td>6</td>\n",
       "      <td>232.0</td>\n",
       "      <td>100.0</td>\n",
       "      <td>2634</td>\n",
       "      <td>13.0</td>\n",
       "      <td>71</td>\n",
       "      <td>False</td>\n",
       "      <td>True</td>\n",
       "    </tr>\n",
       "    <tr>\n",
       "      <th>208</th>\n",
       "      <td>13.0</td>\n",
       "      <td>8</td>\n",
       "      <td>318.0</td>\n",
       "      <td>150.0</td>\n",
       "      <td>3940</td>\n",
       "      <td>13.2</td>\n",
       "      <td>76</td>\n",
       "      <td>False</td>\n",
       "      <td>True</td>\n",
       "    </tr>\n",
       "    <tr>\n",
       "      <th>93</th>\n",
       "      <td>14.0</td>\n",
       "      <td>8</td>\n",
       "      <td>318.0</td>\n",
       "      <td>150.0</td>\n",
       "      <td>4237</td>\n",
       "      <td>14.5</td>\n",
       "      <td>73</td>\n",
       "      <td>False</td>\n",
       "      <td>True</td>\n",
       "    </tr>\n",
       "  </tbody>\n",
       "</table>\n",
       "</div>"
      ]
     },
     "metadata": {},
     "output_type": "display_data"
    }
   ],
   "execution_count": 56
  },
  {
   "metadata": {
    "ExecuteTime": {
     "end_time": "2025-09-28T09:27:19.776473Z",
     "start_time": "2025-09-28T09:27:19.760307Z"
    }
   },
   "cell_type": "code",
   "source": "print(f\"Train has {len(train)} rows and test has {len(test)} rows\")",
   "id": "3ef7ba000d8b3127",
   "outputs": [
    {
     "name": "stdout",
     "output_type": "stream",
     "text": [
      "Train has 318 rows and test has 80 rows\n"
     ]
    }
   ],
   "execution_count": 57
  },
  {
   "metadata": {
    "ExecuteTime": {
     "end_time": "2025-09-28T09:27:19.951890Z",
     "start_time": "2025-09-28T09:27:19.931742Z"
    }
   },
   "cell_type": "code",
   "source": [
    "X_train = train.drop(columns=[\"mpg\"])\n",
    "y_train = train[\"mpg\"]\n",
    "\n",
    "X_test = test.drop(columns=[\"mpg\"])\n",
    "y_test = test[\"mpg\"]"
   ],
   "id": "34a5684c4c0be5e1",
   "outputs": [],
   "execution_count": 58
  },
  {
   "metadata": {},
   "cell_type": "markdown",
   "source": [
    "### 4. Train the models\n",
    "For this problem we are going to train two different models, compare the results and choose the best regression model for this task."
   ],
   "id": "31a3e0d64e77d23b"
  },
  {
   "metadata": {},
   "cell_type": "markdown",
   "source": "Model 1: RandomForest",
   "id": "ecfd621c15ab5c7e"
  },
  {
   "metadata": {},
   "cell_type": "markdown",
   "source": "![RF.png](data:image/png;base64,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)",
   "id": "c60d8dcab4c9346a"
  },
  {
   "metadata": {
    "ExecuteTime": {
     "end_time": "2025-09-28T09:27:20.489355Z",
     "start_time": "2025-09-28T09:27:20.095900Z"
    }
   },
   "cell_type": "code",
   "source": [
    "rf = RandomForestRegressor(n_estimators=100, random_state=42)\n",
    "rf.fit(X_train, y_train);"
   ],
   "id": "ef21fc07d42ffbc3",
   "outputs": [],
   "execution_count": 59
  },
  {
   "metadata": {},
   "cell_type": "markdown",
   "source": "Model 2: Support Vector Machine",
   "id": "ac5a5bd0b6f45925"
  },
  {
   "metadata": {},
   "cell_type": "markdown",
   "source": "![SVR.png](data:image/png;base64,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)",
   "id": "bdf1b7b931d2370d"
  },
  {
   "metadata": {
    "ExecuteTime": {
     "end_time": "2025-09-28T09:27:21.102894Z",
     "start_time": "2025-09-28T09:27:21.052655Z"
    }
   },
   "cell_type": "code",
   "source": [
    "scaler = StandardScaler()\n",
    "X_train_scaled = scaler.fit_transform(X_train)\n",
    "X_test_scaled = scaler.transform(X_test)\n",
    "\n",
    "svr = SVR(kernel='rbf')\n",
    "svr.fit(X_train_scaled, y_train);"
   ],
   "id": "c4fcd199c3b5eb4e",
   "outputs": [],
   "execution_count": 60
  },
  {
   "metadata": {},
   "cell_type": "markdown",
   "source": "### 5. Evaluate the models",
   "id": "e7427ecad8121c22"
  },
  {
   "metadata": {
    "ExecuteTime": {
     "end_time": "2025-09-28T09:27:21.324358Z",
     "start_time": "2025-09-28T09:27:21.290720Z"
    }
   },
   "cell_type": "code",
   "source": [
    "y_pred_rf = rf.predict(X_test)\n",
    "\n",
    "mse_rf = mean_squared_error(y_test, y_pred_rf)\n",
    "print(f\"Random Forest - Mean Squared Error: {mse_rf:.2f}\")"
   ],
   "id": "c88db5385725095c",
   "outputs": [
    {
     "name": "stdout",
     "output_type": "stream",
     "text": [
      "Random Forest - Mean Squared Error: 4.67\n"
     ]
    }
   ],
   "execution_count": 61
  },
  {
   "metadata": {
    "ExecuteTime": {
     "end_time": "2025-09-28T09:27:21.463477Z",
     "start_time": "2025-09-28T09:27:21.428698Z"
    }
   },
   "cell_type": "code",
   "source": [
    "y_pred_svr = svr.predict(X_test_scaled)\n",
    "\n",
    "mse_svr = mean_squared_error(y_test, y_pred_svr)\n",
    "print(f\"SVR - Mean Squared Error: {mse_svr:.2f}\")"
   ],
   "id": "40277b99c49d6e2c",
   "outputs": [
    {
     "name": "stdout",
     "output_type": "stream",
     "text": [
      "SVR - Mean Squared Error: 6.73\n"
     ]
    }
   ],
   "execution_count": 62
  }
 ],
 "metadata": {
  "kernelspec": {
   "display_name": "Python 3",
   "language": "python",
   "name": "python3"
  },
  "language_info": {
   "codemirror_mode": {
    "name": "ipython",
    "version": 2
   },
   "file_extension": ".py",
   "mimetype": "text/x-python",
   "name": "python",
   "nbconvert_exporter": "python",
   "pygments_lexer": "ipython2",
   "version": "2.7.6"
  }
 },
 "nbformat": 4,
 "nbformat_minor": 5
}
